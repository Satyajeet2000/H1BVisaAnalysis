{
  "nbformat": 4,
  "nbformat_minor": 0,
  "metadata": {
    "colab": {
      "provenance": [],
      "toc_visible": true
    },
    "kernelspec": {
      "display_name": "Python 3",
      "name": "python3"
    },
    "language_info": {
      "name": "python"
    }
  },
  "cells": [
    {
      "cell_type": "markdown",
      "metadata": {
        "id": "eG6HC5mRSWSd"
      },
      "source": [
        "# **SL VI Mini Project**\n",
        "\n",
        "## H-1B Visa Analysis\n",
        "![image](https://d2v9ipibika81v.cloudfront.net/uploads/sites/114/2016/03/visa-759.jpg)\n",
        "\n",
        "---\n",
        "---\n",
        "\n",
        "###### 33341 Krishiv Mewani\n",
        "###### 33344 Harshad Manglani\n",
        "###### 33351 Tanay Patankar\n",
        "###### 33354 Satyajeet Patil"
      ]
    },
    {
      "cell_type": "markdown",
      "metadata": {
        "id": "JSyX_X9KSMpo"
      },
      "source": [
        "# Loading Datasets and installing and importing necessary libraries"
      ]
    },
    {
      "cell_type": "code",
      "metadata": {
        "id": "dZsJLhtYeGEL",
        "colab": {
          "base_uri": "https://localhost:8080/"
        },
        "outputId": "55b7d461-9c96-44ae-e74c-a5e75e96053e"
      },
      "source": [
        "from google.colab import drive\n",
        "drive.mount('/content/gdrive')"
      ],
      "execution_count": null,
      "outputs": [
        {
          "output_type": "stream",
          "text": [
            "Mounted at /content/gdrive\n"
          ],
          "name": "stdout"
        }
      ]
    },
    {
      "cell_type": "code",
      "metadata": {
        "colab": {
          "base_uri": "https://localhost:8080/"
        },
        "id": "eNNU1jk_fAcs",
        "outputId": "b0493bbb-6377-44f3-b185-61362e0ef348"
      },
      "source": [
        "!mkdir datasets\n",
        "!unzip gdrive/MyDrive/Datasets/h1b_dataset.zip -d datasets"
      ],
      "execution_count": null,
      "outputs": [
        {
          "output_type": "stream",
          "text": [
            "mkdir: cannot create directory ‘datasets’: File exists\n",
            "Archive:  gdrive/MyDrive/Datasets/h1b_dataset.zip\n",
            "  inflating: datasets/h1b16.csv      \n",
            "  inflating: datasets/h1b17.csv      \n",
            "  inflating: datasets/h1b18.csv      \n"
          ],
          "name": "stdout"
        }
      ]
    },
    {
      "cell_type": "code",
      "metadata": {
        "id": "4yUcrExEfiRq"
      },
      "source": [
        "%%capture\n",
        "\n",
        "import sys\n",
        "import numpy as np\n",
        "import pandas as pd\n",
        "import matplotlib.pyplot as plt\n",
        "import seaborn as sns\n",
        "import plotly.graph_objects as go\n",
        "import plotly.offline as py\n",
        "from sklearn.preprocessing import LabelEncoder\n",
        "from sklearn.utils import resample\n",
        "import gc\n",
        "from sklearn.linear_model import LogisticRegression\n",
        "from sklearn.model_selection import train_test_split\n",
        "from sklearn.metrics import classification_report, accuracy_score\n",
        "from sklearn.ensemble import RandomForestClassifier\n",
        "from sklearn import metrics\n",
        "from sklearn.metrics import roc_auc_score\n",
        "\n",
        "\n",
        "!pip install plotly>=4.0.0\n",
        "!wget https://github.com/plotly/orca/releases/download/v1.2.1/orca-1.2.1-x86_64.AppImage -O /usr/local/bin/orca\n",
        "!chmod +x /usr/local/bin/orca\n",
        "!apt-get install xvfb libgtk2.0-0 libgconf-2-4"
      ],
      "execution_count": null,
      "outputs": []
    },
    {
      "cell_type": "code",
      "metadata": {
        "id": "RoxR5MHug6pL"
      },
      "source": [
        "cols = ['CASE_STATUS','EMPLOYMENT_START_DATE','EMPLOYER_NAME',\n",
        "        'EMPLOYER_STATE','JOB_TITLE','SOC_NAME','PREVAILING_WAGE','PW_UNIT_OF_PAY']\n",
        "\n",
        "# Importing the Datasets\n",
        "df18 = pd.read_csv('datasets/h1b18.csv', usecols = cols)\n",
        "df17 = pd.read_csv('datasets/h1b17.csv', usecols = cols)\n",
        "df16 = pd.read_csv('datasets/h1b16.csv')"
      ],
      "execution_count": null,
      "outputs": []
    },
    {
      "cell_type": "code",
      "metadata": {
        "colab": {
          "base_uri": "https://localhost:8080/",
          "height": 455
        },
        "id": "Gj-otYjshfu7",
        "outputId": "0fe90a66-786e-4130-e30d-ffdc0b440006"
      },
      "source": [
        "df16.head()"
      ],
      "execution_count": null,
      "outputs": [
        {
          "output_type": "execute_result",
          "data": {
            "text/html": [
              "<div>\n",
              "<style scoped>\n",
              "    .dataframe tbody tr th:only-of-type {\n",
              "        vertical-align: middle;\n",
              "    }\n",
              "\n",
              "    .dataframe tbody tr th {\n",
              "        vertical-align: top;\n",
              "    }\n",
              "\n",
              "    .dataframe thead th {\n",
              "        text-align: right;\n",
              "    }\n",
              "</style>\n",
              "<table border=\"1\" class=\"dataframe\">\n",
              "  <thead>\n",
              "    <tr style=\"text-align: right;\">\n",
              "      <th></th>\n",
              "      <th>Unnamed: 0</th>\n",
              "      <th>CASE_STATUS</th>\n",
              "      <th>EMPLOYER_NAME</th>\n",
              "      <th>SOC_NAME</th>\n",
              "      <th>JOB_TITLE</th>\n",
              "      <th>FULL_TIME_POSITION</th>\n",
              "      <th>PREVAILING_WAGE</th>\n",
              "      <th>YEAR</th>\n",
              "      <th>WORKSITE</th>\n",
              "      <th>lon</th>\n",
              "      <th>lat</th>\n",
              "    </tr>\n",
              "  </thead>\n",
              "  <tbody>\n",
              "    <tr>\n",
              "      <th>0</th>\n",
              "      <td>1</td>\n",
              "      <td>CERTIFIED-WITHDRAWN</td>\n",
              "      <td>UNIVERSITY OF MICHIGAN</td>\n",
              "      <td>BIOCHEMISTS AND BIOPHYSICISTS</td>\n",
              "      <td>POSTDOCTORAL RESEARCH FELLOW</td>\n",
              "      <td>N</td>\n",
              "      <td>36067.0</td>\n",
              "      <td>2016.0</td>\n",
              "      <td>ANN ARBOR, MICHIGAN</td>\n",
              "      <td>-83.743038</td>\n",
              "      <td>42.280826</td>\n",
              "    </tr>\n",
              "    <tr>\n",
              "      <th>1</th>\n",
              "      <td>2</td>\n",
              "      <td>CERTIFIED-WITHDRAWN</td>\n",
              "      <td>GOODMAN NETWORKS, INC.</td>\n",
              "      <td>CHIEF EXECUTIVES</td>\n",
              "      <td>CHIEF OPERATING OFFICER</td>\n",
              "      <td>Y</td>\n",
              "      <td>242674.0</td>\n",
              "      <td>2016.0</td>\n",
              "      <td>PLANO, TEXAS</td>\n",
              "      <td>-96.698886</td>\n",
              "      <td>33.019843</td>\n",
              "    </tr>\n",
              "    <tr>\n",
              "      <th>2</th>\n",
              "      <td>3</td>\n",
              "      <td>CERTIFIED-WITHDRAWN</td>\n",
              "      <td>PORTS AMERICA GROUP, INC.</td>\n",
              "      <td>CHIEF EXECUTIVES</td>\n",
              "      <td>CHIEF PROCESS OFFICER</td>\n",
              "      <td>Y</td>\n",
              "      <td>193066.0</td>\n",
              "      <td>2016.0</td>\n",
              "      <td>JERSEY CITY, NEW JERSEY</td>\n",
              "      <td>-74.077642</td>\n",
              "      <td>40.728158</td>\n",
              "    </tr>\n",
              "    <tr>\n",
              "      <th>3</th>\n",
              "      <td>4</td>\n",
              "      <td>CERTIFIED-WITHDRAWN</td>\n",
              "      <td>GATES CORPORATION, A WHOLLY-OWNED SUBSIDIARY O...</td>\n",
              "      <td>CHIEF EXECUTIVES</td>\n",
              "      <td>REGIONAL PRESIDEN, AMERICAS</td>\n",
              "      <td>Y</td>\n",
              "      <td>220314.0</td>\n",
              "      <td>2016.0</td>\n",
              "      <td>DENVER, COLORADO</td>\n",
              "      <td>-104.990251</td>\n",
              "      <td>39.739236</td>\n",
              "    </tr>\n",
              "    <tr>\n",
              "      <th>4</th>\n",
              "      <td>5</td>\n",
              "      <td>WITHDRAWN</td>\n",
              "      <td>PEABODY INVESTMENTS CORP.</td>\n",
              "      <td>CHIEF EXECUTIVES</td>\n",
              "      <td>PRESIDENT MONGOLIA AND INDIA</td>\n",
              "      <td>Y</td>\n",
              "      <td>157518.4</td>\n",
              "      <td>2016.0</td>\n",
              "      <td>ST. LOUIS, MISSOURI</td>\n",
              "      <td>-90.199404</td>\n",
              "      <td>38.627003</td>\n",
              "    </tr>\n",
              "  </tbody>\n",
              "</table>\n",
              "</div>"
            ],
            "text/plain": [
              "   Unnamed: 0          CASE_STATUS  ...         lon        lat\n",
              "0           1  CERTIFIED-WITHDRAWN  ...  -83.743038  42.280826\n",
              "1           2  CERTIFIED-WITHDRAWN  ...  -96.698886  33.019843\n",
              "2           3  CERTIFIED-WITHDRAWN  ...  -74.077642  40.728158\n",
              "3           4  CERTIFIED-WITHDRAWN  ... -104.990251  39.739236\n",
              "4           5            WITHDRAWN  ...  -90.199404  38.627003\n",
              "\n",
              "[5 rows x 11 columns]"
            ]
          },
          "metadata": {
            "tags": []
          },
          "execution_count": 23
        }
      ]
    },
    {
      "cell_type": "code",
      "metadata": {
        "colab": {
          "base_uri": "https://localhost:8080/",
          "height": 385
        },
        "id": "5NW1EK2lhnsC",
        "outputId": "eeb73c4a-35af-4708-a40a-bf86ea254b41"
      },
      "source": [
        "df17.head()"
      ],
      "execution_count": null,
      "outputs": [
        {
          "output_type": "execute_result",
          "data": {
            "text/html": [
              "<div>\n",
              "<style scoped>\n",
              "    .dataframe tbody tr th:only-of-type {\n",
              "        vertical-align: middle;\n",
              "    }\n",
              "\n",
              "    .dataframe tbody tr th {\n",
              "        vertical-align: top;\n",
              "    }\n",
              "\n",
              "    .dataframe thead th {\n",
              "        text-align: right;\n",
              "    }\n",
              "</style>\n",
              "<table border=\"1\" class=\"dataframe\">\n",
              "  <thead>\n",
              "    <tr style=\"text-align: right;\">\n",
              "      <th></th>\n",
              "      <th>CASE_STATUS</th>\n",
              "      <th>EMPLOYMENT_START_DATE</th>\n",
              "      <th>EMPLOYER_NAME</th>\n",
              "      <th>EMPLOYER_STATE</th>\n",
              "      <th>JOB_TITLE</th>\n",
              "      <th>SOC_NAME</th>\n",
              "      <th>PREVAILING_WAGE</th>\n",
              "      <th>PW_UNIT_OF_PAY</th>\n",
              "    </tr>\n",
              "  </thead>\n",
              "  <tbody>\n",
              "    <tr>\n",
              "      <th>0</th>\n",
              "      <td>CERTIFIED-WITHDRAWN</td>\n",
              "      <td>2016-08-10</td>\n",
              "      <td>DISCOVER PRODUCTS INC.</td>\n",
              "      <td>IL</td>\n",
              "      <td>ASSOCIATE DATA INTEGRATION</td>\n",
              "      <td>COMPUTER SYSTEMS ANALYSTS</td>\n",
              "      <td>59197.0</td>\n",
              "      <td>Year</td>\n",
              "    </tr>\n",
              "    <tr>\n",
              "      <th>1</th>\n",
              "      <td>CERTIFIED-WITHDRAWN</td>\n",
              "      <td>2016-08-16</td>\n",
              "      <td>DFS SERVICES LLC</td>\n",
              "      <td>IL</td>\n",
              "      <td>SENIOR ASSOCIATE</td>\n",
              "      <td>OPERATIONS RESEARCH ANALYSTS</td>\n",
              "      <td>49800.0</td>\n",
              "      <td>Year</td>\n",
              "    </tr>\n",
              "    <tr>\n",
              "      <th>2</th>\n",
              "      <td>CERTIFIED-WITHDRAWN</td>\n",
              "      <td>2016-09-09</td>\n",
              "      <td>EASTBANC TECHNOLOGIES LLC</td>\n",
              "      <td>DC</td>\n",
              "      <td>.NET SOFTWARE PROGRAMMER</td>\n",
              "      <td>COMPUTER PROGRAMMERS</td>\n",
              "      <td>76502.0</td>\n",
              "      <td>Year</td>\n",
              "    </tr>\n",
              "    <tr>\n",
              "      <th>3</th>\n",
              "      <td>WITHDRAWN</td>\n",
              "      <td>2017-01-26</td>\n",
              "      <td>INFO SERVICES LLC</td>\n",
              "      <td>MI</td>\n",
              "      <td>PROJECT MANAGER</td>\n",
              "      <td>COMPUTER OCCUPATIONS, ALL OTHER</td>\n",
              "      <td>90376.0</td>\n",
              "      <td>Year</td>\n",
              "    </tr>\n",
              "    <tr>\n",
              "      <th>4</th>\n",
              "      <td>CERTIFIED-WITHDRAWN</td>\n",
              "      <td>2015-03-01</td>\n",
              "      <td>BB&amp;T CORPORATION</td>\n",
              "      <td>NC</td>\n",
              "      <td>ASSOCIATE - ESOTERIC ASSET BACKED SECURITIES</td>\n",
              "      <td>CREDIT ANALYSTS</td>\n",
              "      <td>116605.0</td>\n",
              "      <td>Year</td>\n",
              "    </tr>\n",
              "  </tbody>\n",
              "</table>\n",
              "</div>"
            ],
            "text/plain": [
              "           CASE_STATUS EMPLOYMENT_START_DATE  ... PREVAILING_WAGE PW_UNIT_OF_PAY\n",
              "0  CERTIFIED-WITHDRAWN            2016-08-10  ...         59197.0           Year\n",
              "1  CERTIFIED-WITHDRAWN            2016-08-16  ...         49800.0           Year\n",
              "2  CERTIFIED-WITHDRAWN            2016-09-09  ...         76502.0           Year\n",
              "3            WITHDRAWN            2017-01-26  ...         90376.0           Year\n",
              "4  CERTIFIED-WITHDRAWN            2015-03-01  ...        116605.0           Year\n",
              "\n",
              "[5 rows x 8 columns]"
            ]
          },
          "metadata": {
            "tags": []
          },
          "execution_count": 24
        }
      ]
    },
    {
      "cell_type": "code",
      "metadata": {
        "colab": {
          "base_uri": "https://localhost:8080/",
          "height": 352
        },
        "id": "7h79qoAGmdWX",
        "outputId": "4dacd14a-389b-4c71-8b1d-2e2d68874d5a"
      },
      "source": [
        "df18.head()"
      ],
      "execution_count": null,
      "outputs": [
        {
          "output_type": "execute_result",
          "data": {
            "text/html": [
              "<div>\n",
              "<style scoped>\n",
              "    .dataframe tbody tr th:only-of-type {\n",
              "        vertical-align: middle;\n",
              "    }\n",
              "\n",
              "    .dataframe tbody tr th {\n",
              "        vertical-align: top;\n",
              "    }\n",
              "\n",
              "    .dataframe thead th {\n",
              "        text-align: right;\n",
              "    }\n",
              "</style>\n",
              "<table border=\"1\" class=\"dataframe\">\n",
              "  <thead>\n",
              "    <tr style=\"text-align: right;\">\n",
              "      <th></th>\n",
              "      <th>CASE_STATUS</th>\n",
              "      <th>EMPLOYMENT_START_DATE</th>\n",
              "      <th>EMPLOYER_NAME</th>\n",
              "      <th>EMPLOYER_STATE</th>\n",
              "      <th>JOB_TITLE</th>\n",
              "      <th>SOC_NAME</th>\n",
              "      <th>PREVAILING_WAGE</th>\n",
              "      <th>PW_UNIT_OF_PAY</th>\n",
              "    </tr>\n",
              "  </thead>\n",
              "  <tbody>\n",
              "    <tr>\n",
              "      <th>0</th>\n",
              "      <td>CERTIFIED</td>\n",
              "      <td>7/28/18</td>\n",
              "      <td>MICROSOFT CORPORATION</td>\n",
              "      <td>WA</td>\n",
              "      <td>SOFTWARE ENGINEER</td>\n",
              "      <td>SOFTWARE DEVELOPERS, APPLICATIONS</td>\n",
              "      <td>112,549.00</td>\n",
              "      <td>Year</td>\n",
              "    </tr>\n",
              "    <tr>\n",
              "      <th>1</th>\n",
              "      <td>CERTIFIED</td>\n",
              "      <td>11/6/17</td>\n",
              "      <td>ERNST &amp; YOUNG U.S. LLP</td>\n",
              "      <td>NJ</td>\n",
              "      <td>TAX SENIOR</td>\n",
              "      <td>ACCOUNTANTS AND AUDITORS</td>\n",
              "      <td>79,976.00</td>\n",
              "      <td>Year</td>\n",
              "    </tr>\n",
              "    <tr>\n",
              "      <th>2</th>\n",
              "      <td>CERTIFIED</td>\n",
              "      <td>9/10/18</td>\n",
              "      <td>LOGIXHUB LLC</td>\n",
              "      <td>TX</td>\n",
              "      <td>DATABASE ADMINISTRATOR</td>\n",
              "      <td>DATABASE ADMINISTRATORS</td>\n",
              "      <td>77,792.00</td>\n",
              "      <td>Year</td>\n",
              "    </tr>\n",
              "    <tr>\n",
              "      <th>3</th>\n",
              "      <td>CERTIFIED</td>\n",
              "      <td>9/10/18</td>\n",
              "      <td>HEXAWARE TECHNOLOGIES, INC.</td>\n",
              "      <td>NJ</td>\n",
              "      <td>SOFTWARE ENGINEER</td>\n",
              "      <td>SOFTWARE DEVELOPERS, APPLICATIONS</td>\n",
              "      <td>84,406.00</td>\n",
              "      <td>Year</td>\n",
              "    </tr>\n",
              "    <tr>\n",
              "      <th>4</th>\n",
              "      <td>CERTIFIED</td>\n",
              "      <td>9/7/18</td>\n",
              "      <td>ECLOUD LABS,INC.</td>\n",
              "      <td>NJ</td>\n",
              "      <td>MICROSOFT DYNAMICS CRM APPLICATION DEVELOPER</td>\n",
              "      <td>SOFTWARE DEVELOPERS, APPLICATIONS</td>\n",
              "      <td>87,714.00</td>\n",
              "      <td>Year</td>\n",
              "    </tr>\n",
              "  </tbody>\n",
              "</table>\n",
              "</div>"
            ],
            "text/plain": [
              "  CASE_STATUS EMPLOYMENT_START_DATE  ... PREVAILING_WAGE PW_UNIT_OF_PAY\n",
              "0   CERTIFIED               7/28/18  ...      112,549.00           Year\n",
              "1   CERTIFIED               11/6/17  ...       79,976.00           Year\n",
              "2   CERTIFIED               9/10/18  ...       77,792.00           Year\n",
              "3   CERTIFIED               9/10/18  ...       84,406.00           Year\n",
              "4   CERTIFIED                9/7/18  ...       87,714.00           Year\n",
              "\n",
              "[5 rows x 8 columns]"
            ]
          },
          "metadata": {
            "tags": []
          },
          "execution_count": 25
        }
      ]
    },
    {
      "cell_type": "markdown",
      "metadata": {
        "id": "52JYYI6mQ3Q9"
      },
      "source": [
        "# Data Transformation"
      ]
    },
    {
      "cell_type": "markdown",
      "metadata": {
        "id": "wTM9YmsYRL-Q"
      },
      "source": [
        "#### Selecting the necessary columns"
      ]
    },
    {
      "cell_type": "code",
      "metadata": {
        "id": "NMIz2Hteme3H"
      },
      "source": [
        "# Removing columns that are not necessary from data of df18 and df17\n",
        "df17 = df17[['CASE_STATUS','EMPLOYMENT_START_DATE','EMPLOYER_NAME',\n",
        "        'EMPLOYER_STATE','JOB_TITLE','SOC_NAME','PREVAILING_WAGE','PW_UNIT_OF_PAY']]\n",
        "\n",
        "df18 = df18[['CASE_STATUS','EMPLOYMENT_START_DATE','EMPLOYER_NAME',\n",
        "        'EMPLOYER_STATE','JOB_TITLE','SOC_NAME','PREVAILING_WAGE','PW_UNIT_OF_PAY']]"
      ],
      "execution_count": null,
      "outputs": []
    },
    {
      "cell_type": "markdown",
      "metadata": {
        "id": "dz-PizuaRTRG"
      },
      "source": [
        "#### Standardising the format of the date"
      ]
    },
    {
      "cell_type": "code",
      "metadata": {
        "id": "zWAK5Ko0mfcc"
      },
      "source": [
        "# Changing the EMPLOYMENT_START_DATE into a year to comply with 2016 data\n",
        "df18['EMPLOYMENT_START_DATE'] = pd.to_datetime(df18['EMPLOYMENT_START_DATE'], format = '%m/%d/%y')\n",
        "df18['EMPLOYMENT_START_DATE'] = df18['EMPLOYMENT_START_DATE'].apply(lambda x: x.year)\n",
        "\n",
        "df17['EMPLOYMENT_START_DATE'] = pd.to_datetime(df17['EMPLOYMENT_START_DATE'], format = '%Y-%m-%d')\n",
        "df17['EMPLOYMENT_START_DATE'] = df17['EMPLOYMENT_START_DATE'].apply(lambda x: x.year)"
      ],
      "execution_count": null,
      "outputs": []
    },
    {
      "cell_type": "code",
      "metadata": {
        "id": "vypIUNI3mosz"
      },
      "source": [
        "# Only take years 2017 from df17 and years 2018 from df18\n",
        "df17 = df17.loc[df17['EMPLOYMENT_START_DATE'] == 2017, :]\n",
        "df18 = df18.loc[df18['EMPLOYMENT_START_DATE'] == 2018, :]"
      ],
      "execution_count": null,
      "outputs": []
    },
    {
      "cell_type": "markdown",
      "metadata": {
        "id": "TK1X_FXpRexY"
      },
      "source": [
        "#### Checking Missing Entries"
      ]
    },
    {
      "cell_type": "code",
      "metadata": {
        "colab": {
          "base_uri": "https://localhost:8080/"
        },
        "id": "5OVD27NTlw1g",
        "outputId": "43cfb88f-b83a-4883-924d-20ff95fe9987"
      },
      "source": [
        "print('Number of entries:', df16.shape[0])\n",
        "print('Number of missing data in each column:')\n",
        "print(df16.isnull().sum())"
      ],
      "execution_count": null,
      "outputs": [
        {
          "output_type": "stream",
          "text": [
            "Number of entries: 3002458\n",
            "Number of missing data in each column:\n",
            "Unnamed: 0                 0\n",
            "CASE_STATUS               13\n",
            "EMPLOYER_NAME             59\n",
            "SOC_NAME               17734\n",
            "JOB_TITLE                 43\n",
            "FULL_TIME_POSITION        15\n",
            "PREVAILING_WAGE           85\n",
            "YEAR                      13\n",
            "WORKSITE                   0\n",
            "lon                   107242\n",
            "lat                   107242\n",
            "dtype: int64\n"
          ],
          "name": "stdout"
        }
      ]
    },
    {
      "cell_type": "code",
      "metadata": {
        "colab": {
          "base_uri": "https://localhost:8080/"
        },
        "id": "ig25U_xmpP1C",
        "outputId": "0073d681-901e-4494-c238-f778e0a6dce4"
      },
      "source": [
        "print('Number of entries:', df17.shape[0])\n",
        "print('Number of missing data in each column:')\n",
        "print(df17.isnull().sum())"
      ],
      "execution_count": null,
      "outputs": [
        {
          "output_type": "stream",
          "text": [
            "Number of entries: 530371\n",
            "Number of missing data in each column:\n",
            "CASE_STATUS               0\n",
            "EMPLOYMENT_START_DATE     0\n",
            "EMPLOYER_NAME            51\n",
            "EMPLOYER_STATE           13\n",
            "JOB_TITLE                 3\n",
            "SOC_NAME                  1\n",
            "PREVAILING_WAGE           1\n",
            "PW_UNIT_OF_PAY           39\n",
            "dtype: int64\n"
          ],
          "name": "stdout"
        }
      ]
    },
    {
      "cell_type": "code",
      "metadata": {
        "colab": {
          "base_uri": "https://localhost:8080/"
        },
        "id": "5CDPaXOUplnF",
        "outputId": "dcdb6dd2-1afd-469a-bc0b-81fdfafddd2f"
      },
      "source": [
        "print('Number of entries:', df18.shape[0])\n",
        "print('Number of missing data in each column:')\n",
        "print(df18.isnull().sum())"
      ],
      "execution_count": null,
      "outputs": [
        {
          "output_type": "stream",
          "text": [
            "Number of entries: 556038\n",
            "Number of missing data in each column:\n",
            "CASE_STATUS               0\n",
            "EMPLOYMENT_START_DATE     0\n",
            "EMPLOYER_NAME             8\n",
            "EMPLOYER_STATE           66\n",
            "JOB_TITLE                 1\n",
            "SOC_NAME                  7\n",
            "PREVAILING_WAGE           3\n",
            "PW_UNIT_OF_PAY           45\n",
            "dtype: int64\n"
          ],
          "name": "stdout"
        }
      ]
    },
    {
      "cell_type": "code",
      "metadata": {
        "id": "b_3ChxHDQ4rU"
      },
      "source": [
        "# Dropping the rows with nan values\n",
        "df16 = df16.drop(['lon','lat'], axis=1)\n",
        "df16 = df16.dropna()\n",
        "df17 = df17.dropna()\n",
        "df18 = df18.dropna()"
      ],
      "execution_count": null,
      "outputs": []
    },
    {
      "cell_type": "markdown",
      "metadata": {
        "id": "me8sTy1kprn_"
      },
      "source": [
        "Dataset is quite organized with nearly no missing relevent values in 2 of the files"
      ]
    },
    {
      "cell_type": "markdown",
      "metadata": {
        "id": "S267RwOfRnI2"
      },
      "source": [
        "#### Standardising the different formats of wages"
      ]
    },
    {
      "cell_type": "code",
      "metadata": {
        "colab": {
          "base_uri": "https://localhost:8080/"
        },
        "id": "nNzqiZ2VpnCq",
        "outputId": "385ed21a-c8a0-4247-8bbc-72fafc5424aa"
      },
      "source": [
        "df17.PW_UNIT_OF_PAY.unique()"
      ],
      "execution_count": null,
      "outputs": [
        {
          "output_type": "execute_result",
          "data": {
            "text/plain": [
              "array(['Year', 'Hour', 'Month', 'Week', 'Bi-Weekly'], dtype=object)"
            ]
          },
          "metadata": {
            "tags": []
          },
          "execution_count": 33
        }
      ]
    },
    {
      "cell_type": "code",
      "metadata": {
        "id": "kMv6QZZ4qaf0"
      },
      "source": [
        "# Change PREVAILING WAGE into only yearly wages (Split into Year, Week, Month, Hourly, Bi-weekly)\n",
        "df18['PREVAILING_WAGE'] = df18['PREVAILING_WAGE'].apply(lambda x: str(x).replace(',',''))\n",
        "df18.loc[df18.PREVAILING_WAGE == 0, 'PREVAILING_WAGE'] = np.nan\n",
        "df18.loc[df18.PW_UNIT_OF_PAY == 'Hour', 'PREVAILING_WAGE'] = df18.loc[df18.PW_UNIT_OF_PAY == 'Hour', 'PREVAILING_WAGE'].apply(lambda x:float(x)*1638)\n",
        "df18.loc[df18.PW_UNIT_OF_PAY == 'Week', 'PREVAILING_WAGE'] = df18.loc[df18.PW_UNIT_OF_PAY == 'Week', 'PREVAILING_WAGE'].apply(lambda x:float(x)*52)\n",
        "df18.loc[df18.PW_UNIT_OF_PAY == 'Bi-Weekly', 'PREVAILING_WAGE'] = df18.loc[df18.PW_UNIT_OF_PAY == 'Bi-Weekly', 'PREVAILING_WAGE'].apply(lambda x:float(x)*26)\n",
        "df18.loc[df18.PW_UNIT_OF_PAY == 'Month', 'PREVAILING_WAGE'] = df18.loc[df18.PW_UNIT_OF_PAY == 'Month', 'PREVAILING_WAGE'].apply(lambda x:float(x)*12)\n",
        "\n",
        "df17['PREVAILING_WAGE'] = df17['PREVAILING_WAGE'].apply(lambda x: str(x).replace(',',''))\n",
        "df17.loc[df17.PREVAILING_WAGE == 0, 'PREVAILING_WAGE'] = np.nan\n",
        "df17.loc[df17.PW_UNIT_OF_PAY == 'Hour', 'PREVAILING_WAGE'] = df17.loc[df17.PW_UNIT_OF_PAY == 'Hour', 'PREVAILING_WAGE'].apply(lambda x:float(x)*1638)\n",
        "df17.loc[df17.PW_UNIT_OF_PAY == 'Week', 'PREVAILING_WAGE'] = df17.loc[df17.PW_UNIT_OF_PAY == 'Week', 'PREVAILING_WAGE'].apply(lambda x:float(x)*52)\n",
        "df17.loc[df17.PW_UNIT_OF_PAY == 'Bi-Weekly', 'PREVAILING_WAGE'] = df17.loc[df17.PW_UNIT_OF_PAY == 'Bi-Weekly', 'PREVAILING_WAGE'].apply(lambda x:float(x)*26)\n",
        "df17.loc[df17.PW_UNIT_OF_PAY == 'Month', 'PREVAILING_WAGE'] = df17.loc[df17.PW_UNIT_OF_PAY == 'Month', 'PREVAILING_WAGE'].apply(lambda x:float(x)*12)"
      ],
      "execution_count": null,
      "outputs": []
    },
    {
      "cell_type": "code",
      "metadata": {
        "id": "D1T5sz1Mquy3"
      },
      "source": [
        "# Remove PW_UNIT_OF_PAY\n",
        "df17 = df17[['CASE_STATUS','EMPLOYMENT_START_DATE','EMPLOYER_NAME',\n",
        "        'EMPLOYER_STATE','JOB_TITLE','SOC_NAME','PREVAILING_WAGE']]\n",
        "\n",
        "df18 = df18[['CASE_STATUS','EMPLOYMENT_START_DATE','EMPLOYER_NAME',\n",
        "        'EMPLOYER_STATE','JOB_TITLE','SOC_NAME','PREVAILING_WAGE']]"
      ],
      "execution_count": null,
      "outputs": []
    },
    {
      "cell_type": "markdown",
      "metadata": {
        "id": "JN2gJCpZR3ps"
      },
      "source": [
        "#### Converting locations into state codes"
      ]
    },
    {
      "cell_type": "code",
      "metadata": {
        "id": "GtZxywxbrUot"
      },
      "source": [
        "# Dictionary of all States and Shortened State\n",
        "states = {\"AL\":\"Alabama\",\"AK\":\"Alaska\",\"AZ\":\"Arizona\",\"AR\":\"Arkansas\",\"CA\":\"California\",\"CO\":\"Colorado\",\n",
        "          \"CT\":\"Connecticut\",\"DC\":\"District Of Columbia\",\"DE\":\"Delaware\",\"FL\":\"Florida\",\"GA\":\"Georgia\",\"HI\":\"Hawaii\",\"ID\":\"Idaho\",\n",
        "          \"IL\":\"Illinois\",\"IN\":\"Indiana\",\"IA\":\"Iowa\",\"KS\":\"Kansas\",\"KY\":\"Kentucky\",\"LA\":\"Louisiana\",\n",
        "          \"ME\":\"Maine\",\"MD\":\"Maryland\",\"MA\":\"Massachusetts\",\"MI\":\"Michigan\",\"MN\":\"Minnesota\",\"MS\":\"Mississippi\",\n",
        "          \"MO\":\"Missouri\",\"MT\":\"Montana\",\"NE\":\"Nebraska\",\"NV\":\"Nevada\",\"NH\":\"New Hampshire\",\"NJ\":\"New Jersey\",\n",
        "          \"NM\":\"New Mexico\",\"NY\":\"New York\",\"NC\":\"North Carolina\",\"ND\":\"North Dakota\",\"OH\":\"Ohio\",\"OK\":\"Oklahoma\",\n",
        "          \"OR\":\"Oregon\",\"PA\":\"Pennsylvania\",\"PR\":\"Puerto Rico\",\"RI\":\"Rhode Island\",\"SC\":\"South Carolina\",\"SD\":\"South Dakota\",\n",
        "          \"TN\":\"Tennessee\",\"TX\":\"Texas\",\"UT\":\"Utah\",\"VT\":\"Vermont\",\"VA\":\"Virginia\",\"WA\":\"Washington\",\n",
        "          \"WV\":\"West Virginia\",\"WI\":\"Wisconsin\",\"WY\":\"Wyoming\"}\n",
        "states = dict((v.upper(), k.upper()) for k, v in states.items())\n",
        "\n",
        "# Remove the city from the WORKSITE\n",
        "df16['WORKSITE'] = df16['WORKSITE'].apply(lambda x: x.split(',')[1].strip())\n",
        "# Replace Worksite with shortened States\n",
        "df16['WORKSITE'].replace(states, inplace = True)\n",
        "# Replace WORKSITE with EMPLOYER_STATE\n",
        "df16.rename(columns={'YEAR':'EMPLOYMENT_START_DATE','WORKSITE':'EMPLOYER_STATE'}, inplace=True)\n",
        "\n",
        "\n",
        "# Removing unnecessary columns of df16\n",
        "df16 = df16[['CASE_STATUS','EMPLOYMENT_START_DATE','EMPLOYER_NAME',\n",
        "        'EMPLOYER_STATE','JOB_TITLE','SOC_NAME','PREVAILING_WAGE']]"
      ],
      "execution_count": null,
      "outputs": []
    },
    {
      "cell_type": "markdown",
      "metadata": {
        "id": "RxMYkLs8R975"
      },
      "source": [
        "#### Integrating the different datasets"
      ]
    },
    {
      "cell_type": "code",
      "metadata": {
        "colab": {
          "base_uri": "https://localhost:8080/",
          "height": 285
        },
        "id": "WanjgCIhr4bE",
        "outputId": "7a6fb543-9880-4423-b683-dcba1df7b5a0"
      },
      "source": [
        "df = pd.concat([df16,df17,df18])\n",
        "df = df.reset_index(drop = True)\n",
        "df.head()"
      ],
      "execution_count": null,
      "outputs": [
        {
          "output_type": "execute_result",
          "data": {
            "text/html": [
              "<div>\n",
              "<style scoped>\n",
              "    .dataframe tbody tr th:only-of-type {\n",
              "        vertical-align: middle;\n",
              "    }\n",
              "\n",
              "    .dataframe tbody tr th {\n",
              "        vertical-align: top;\n",
              "    }\n",
              "\n",
              "    .dataframe thead th {\n",
              "        text-align: right;\n",
              "    }\n",
              "</style>\n",
              "<table border=\"1\" class=\"dataframe\">\n",
              "  <thead>\n",
              "    <tr style=\"text-align: right;\">\n",
              "      <th></th>\n",
              "      <th>CASE_STATUS</th>\n",
              "      <th>EMPLOYMENT_START_DATE</th>\n",
              "      <th>EMPLOYER_NAME</th>\n",
              "      <th>EMPLOYER_STATE</th>\n",
              "      <th>JOB_TITLE</th>\n",
              "      <th>SOC_NAME</th>\n",
              "      <th>PREVAILING_WAGE</th>\n",
              "    </tr>\n",
              "  </thead>\n",
              "  <tbody>\n",
              "    <tr>\n",
              "      <th>0</th>\n",
              "      <td>CERTIFIED-WITHDRAWN</td>\n",
              "      <td>2016.0</td>\n",
              "      <td>UNIVERSITY OF MICHIGAN</td>\n",
              "      <td>MI</td>\n",
              "      <td>POSTDOCTORAL RESEARCH FELLOW</td>\n",
              "      <td>BIOCHEMISTS AND BIOPHYSICISTS</td>\n",
              "      <td>36067</td>\n",
              "    </tr>\n",
              "    <tr>\n",
              "      <th>1</th>\n",
              "      <td>CERTIFIED-WITHDRAWN</td>\n",
              "      <td>2016.0</td>\n",
              "      <td>GOODMAN NETWORKS, INC.</td>\n",
              "      <td>TX</td>\n",
              "      <td>CHIEF OPERATING OFFICER</td>\n",
              "      <td>CHIEF EXECUTIVES</td>\n",
              "      <td>242674</td>\n",
              "    </tr>\n",
              "    <tr>\n",
              "      <th>2</th>\n",
              "      <td>CERTIFIED-WITHDRAWN</td>\n",
              "      <td>2016.0</td>\n",
              "      <td>PORTS AMERICA GROUP, INC.</td>\n",
              "      <td>NJ</td>\n",
              "      <td>CHIEF PROCESS OFFICER</td>\n",
              "      <td>CHIEF EXECUTIVES</td>\n",
              "      <td>193066</td>\n",
              "    </tr>\n",
              "    <tr>\n",
              "      <th>3</th>\n",
              "      <td>CERTIFIED-WITHDRAWN</td>\n",
              "      <td>2016.0</td>\n",
              "      <td>GATES CORPORATION, A WHOLLY-OWNED SUBSIDIARY O...</td>\n",
              "      <td>CO</td>\n",
              "      <td>REGIONAL PRESIDEN, AMERICAS</td>\n",
              "      <td>CHIEF EXECUTIVES</td>\n",
              "      <td>220314</td>\n",
              "    </tr>\n",
              "    <tr>\n",
              "      <th>4</th>\n",
              "      <td>WITHDRAWN</td>\n",
              "      <td>2016.0</td>\n",
              "      <td>PEABODY INVESTMENTS CORP.</td>\n",
              "      <td>MO</td>\n",
              "      <td>PRESIDENT MONGOLIA AND INDIA</td>\n",
              "      <td>CHIEF EXECUTIVES</td>\n",
              "      <td>157518</td>\n",
              "    </tr>\n",
              "  </tbody>\n",
              "</table>\n",
              "</div>"
            ],
            "text/plain": [
              "           CASE_STATUS  ...  PREVAILING_WAGE\n",
              "0  CERTIFIED-WITHDRAWN  ...            36067\n",
              "1  CERTIFIED-WITHDRAWN  ...           242674\n",
              "2  CERTIFIED-WITHDRAWN  ...           193066\n",
              "3  CERTIFIED-WITHDRAWN  ...           220314\n",
              "4            WITHDRAWN  ...           157518\n",
              "\n",
              "[5 rows x 7 columns]"
            ]
          },
          "metadata": {
            "tags": []
          },
          "execution_count": 17
        }
      ]
    },
    {
      "cell_type": "markdown",
      "metadata": {
        "id": "Qoqmec1ISHki"
      },
      "source": [
        "#### Final error correction"
      ]
    },
    {
      "cell_type": "code",
      "metadata": {
        "id": "urCBZkF3uK5R"
      },
      "source": [
        "# Cleaning the SOC_NAME\n",
        "df['SOC_NAME'] = df['SOC_NAME'].apply(lambda x: str(x).upper())\n",
        "df['SOC_NAME'] = df['SOC_NAME'].apply(lambda x:str(x).replace('COMPUTER SYSTEMS ANALYSTS','COMPUTER SYSTEMS ANALYST'))\n",
        "\n",
        "# Changing Wage to float\n",
        "df['PREVAILING_WAGE'] = df['PREVAILING_WAGE'].astype(str).astype(float)"
      ],
      "execution_count": null,
      "outputs": []
    },
    {
      "cell_type": "markdown",
      "metadata": {
        "id": "Z1ZArXkDtjP6"
      },
      "source": [
        "# Visualisations"
      ]
    },
    {
      "cell_type": "markdown",
      "metadata": {
        "id": "CmVGEQhzuqiF"
      },
      "source": [
        "#### Applicants Per Year"
      ]
    },
    {
      "cell_type": "code",
      "metadata": {
        "colab": {
          "base_uri": "https://localhost:8080/"
        },
        "id": "2IcUmjsvufWE",
        "outputId": "f8ae05f1-3655-49db-ac52-89bee75c9da9"
      },
      "source": [
        "# Looking at the number of applications per year\n",
        "year_applicants = df['EMPLOYMENT_START_DATE'].value_counts()\n",
        "print(year_applicants)"
      ],
      "execution_count": null,
      "outputs": [
        {
          "output_type": "stream",
          "text": [
            "2016.0    647803\n",
            "2015.0    618727\n",
            "2018.0    556038\n",
            "2017.0    530371\n",
            "2014.0    519427\n",
            "2013.0    442114\n",
            "2012.0    415607\n",
            "2011.0    358767\n",
            "Name: EMPLOYMENT_START_DATE, dtype: int64\n"
          ],
          "name": "stdout"
        }
      ]
    },
    {
      "cell_type": "code",
      "metadata": {
        "colab": {
          "base_uri": "https://localhost:8080/",
          "height": 281
        },
        "id": "AGnlqpR-u5Vw",
        "outputId": "ab2868e2-b9cf-48f0-d10b-f5bf3b254c50"
      },
      "source": [
        "# Visualising the number of applications per year\n",
        "\n",
        "year_applicants = year_applicants.sort_index()\n",
        "\n",
        "obama = pd.Series(year_applicants.values[0:6], index = year_applicants.index[0:6])\n",
        "trump = pd.Series(year_applicants.values[6:], index = year_applicants.index[6:])\n",
        "\n",
        "fig, ax = plt.subplots()\n",
        "plt.bar(obama.index, obama.values, align = 'center', alpha = 0.7,  linewidth=0)\n",
        "plt.bar(trump.index, trump.values, align = 'center', alpha = 0.7,  linewidth=0, color = '#FF0000')\n",
        "plt.legend(['Obama\\'s Presidency','Trump\\'s Presidency'],loc=2)\n",
        "plt.title('The Number of Applications from 2011 to 2018')\n",
        "\n",
        "plt.show()"
      ],
      "execution_count": null,
      "outputs": [
        {
          "output_type": "display_data",
          "data": {
            "image/png": "[encoded data removed]",
            "text/plain": [
              "<Figure size 432x288 with 1 Axes>"
            ]
          },
          "metadata": {
            "tags": []
          }
        }
      ]
    },
    {
      "cell_type": "markdown",
      "metadata": {
        "id": "rBT_bebiwJOv"
      },
      "source": [
        "From the series above, we can see that there are about 500,000 applicants every year. We can also see that there has been a decrease in the number of applications in 2017 and 2018 (Trump's Presidency) The figure below highlights the fall in the number of applicants in Trump's Presidency"
      ]
    },
    {
      "cell_type": "markdown",
      "metadata": {
        "id": "D7Fq9cjEtztY"
      },
      "source": [
        "#### Job Location"
      ]
    },
    {
      "cell_type": "code",
      "metadata": {
        "id": "44m_0lOezS2D"
      },
      "source": [
        "# Organizing by state\n",
        "df_heatmap = df.groupby('EMPLOYER_STATE')['CASE_STATUS'].count()"
      ],
      "execution_count": null,
      "outputs": []
    },
    {
      "cell_type": "code",
      "metadata": {
        "colab": {
          "base_uri": "https://localhost:8080/",
          "height": 542
        },
        "id": "9WVf9ANnvhyK",
        "outputId": "04d6c51f-0b62-4e92-a7b3-e6d979546f0f"
      },
      "source": [
        "scl = [\n",
        "    [0.0, 'rgb(242,240,247)'],\n",
        "    [0.2, 'rgb(218,218,235)'],\n",
        "    [0.4, 'rgb(188,189,220)'],\n",
        "    [0.6, 'rgb(158,154,200)'],\n",
        "    [0.8, 'rgb(117,107,177)'],\n",
        "    [1.0, 'rgb(84,39,143)']\n",
        "]\n",
        "\n",
        "fig = go.Figure(\n",
        "    data=go.Choropleth(\n",
        "      locations=df_heatmap.index, # Spatial coordinates\n",
        "      z = df_heatmap.values.astype(float), # Data to be color-coded\n",
        "      locationmode = 'USA-states', # set of locations match entries in `locations`\n",
        "      marker = go.choropleth.Marker(\n",
        "          line = go.choropleth.marker.Line(\n",
        "              color = 'rgb(255,255,255)',\n",
        "              width = 2\n",
        "          )),\n",
        "      colorscale = scl,\n",
        "      autocolorscale = False,\n",
        "      colorbar = go.choropleth.ColorBar(\n",
        "          title = \"\")\n",
        "    ),\n",
        "    layout = go.Layout(\n",
        "      title = go.layout.Title(\n",
        "          text = 'H1B Visa Applicants'\n",
        "      ),\n",
        "      geo = go.layout.Geo(\n",
        "          scope = 'usa',\n",
        "          projection = go.layout.geo.Projection(type = 'albers usa'),\n",
        "          showlakes = True,\n",
        "          lakecolor = 'rgb(255, 255, 255)'),\n",
        "    )\n",
        "  )\n",
        "\n",
        "# fig.show(renderer=\"png\")\n",
        "fig.show(renderer=\"colab\")\n"
      ],
      "execution_count": null,
      "outputs": [
        {
          "output_type": "display_data",
          "data": {
            "text/html": [
              "<html>\n",
              "<head><meta charset=\"utf-8\" /></head>\n",
              "<body>\n",
              "    <div>\n",
              "            <script src=\"https://cdnjs.cloudflare.com/ajax/libs/mathjax/2.7.5/MathJax.js?config=TeX-AMS-MML_SVG\"></script><script type=\"text/javascript\">if (window.MathJax) {MathJax.Hub.Config({SVG: {font: \"STIX-Web\"}});}</script>\n",
              "                <script type=\"text/javascript\">window.PlotlyConfig = {MathJaxConfig: 'local'};</script>\n",
              "        <script src=\"https://cdn.plot.ly/plotly-latest.min.js\"></script>    \n",
              "            <div id=\"c14b677d-92af-485e-9496-7ef1f104b69a\" class=\"plotly-graph-div\" style=\"height:525px; width:100%;\"></div>\n",
              "            <script type=\"text/javascript\">\n",
              "                \n",
              "                    window.PLOTLYENV=window.PLOTLYENV || {};\n",
              "                    \n",
              "                if (document.getElementById(\"c14b677d-92af-485e-9496-7ef1f104b69a\")) {\n",
              "                    Plotly.newPlot(\n",
              "                        'c14b677d-92af-485e-9496-7ef1f104b69a',\n",
              "                        [{\"autocolorscale\": false, \"colorbar\": {\"title\": {\"text\": \"\"}}, \"colorscale\": [[0.0, \"rgb(242,240,247)\"], [0.2, \"rgb(218,218,235)\"], [0.4, \"rgb(188,189,220)\"], [0.6, \"rgb(158,154,200)\"], [0.8, \"rgb(117,107,177)\"], [1.0, \"rgb(84,39,143)\"]], \"locationmode\": \"USA-states\", \"locations\": [\"AK\", \"AL\", \"AR\", \"AS\", \"AZ\", \"CA\", \"CO\", \"CT\", \"DC\", \"DE\", \"FL\", \"GA\", \"GU\", \"HI\", \"IA\", \"ID\", \"IL\", \"IN\", \"KS\", \"KY\", \"LA\", \"MA\", \"MD\", \"ME\", \"MI\", \"MN\", \"MO\", \"MP\", \"MS\", \"MT\", \"NA\", \"NC\", \"ND\", \"NE\", \"NH\", \"NJ\", \"NM\", \"NV\", \"NY\", \"OH\", \"OK\", \"OR\", \"PA\", \"PR\", \"RI\", \"SC\", \"SD\", \"TN\", \"TX\", \"UT\", \"VA\", \"VI\", \"VT\", \"WA\", \"WI\", \"WV\", \"WY\"], \"marker\": {\"line\": {\"color\": \"rgb(255,255,255)\", \"width\": 2}}, \"type\": \"choropleth\", \"z\": [1562.0, 12604.0, 19108.0, 1.0, 49644.0, 745960.0, 38580.0, 60506.0, 26296.0, 22618.0, 138036.0, 132051.0, 525.0, 4330.0, 20703.0, 5375.0, 228023.0, 36141.0, 17377.0, 16402.0, 13872.0, 158243.0, 94849.0, 4807.0, 127983.0, 57330.0, 44710.0, 586.0, 5147.0, 1208.0, 3604.0, 110261.0, 3557.0, 12579.0, 11739.0, 348866.0, 6887.0, 9602.0, 368837.0, 92633.0, 12614.0, 26690.0, 162043.0, 2433.0, 13412.0, 15946.0, 2318.0, 36191.0, 439099.0, 16969.0, 123257.0, 78.0, 2642.0, 138320.0, 38765.0, 3698.0, 1158.0]}],\n",
              "                        {\"geo\": {\"lakecolor\": \"rgb(255, 255, 255)\", \"projection\": {\"type\": \"albers usa\"}, \"scope\": \"usa\", \"showlakes\": true}, \"template\": {\"data\": {\"bar\": [{\"error_x\": {\"color\": \"#2a3f5f\"}, \"error_y\": {\"color\": \"#2a3f5f\"}, \"marker\": {\"line\": {\"color\": \"#E5ECF6\", \"width\": 0.5}}, \"type\": \"bar\"}], \"barpolar\": [{\"marker\": {\"line\": {\"color\": \"#E5ECF6\", \"width\": 0.5}}, \"type\": \"barpolar\"}], \"carpet\": [{\"aaxis\": {\"endlinecolor\": \"#2a3f5f\", \"gridcolor\": \"white\", \"linecolor\": \"white\", \"minorgridcolor\": \"white\", \"startlinecolor\": \"#2a3f5f\"}, \"baxis\": {\"endlinecolor\": \"#2a3f5f\", \"gridcolor\": \"white\", \"linecolor\": \"white\", \"minorgridcolor\": \"white\", \"startlinecolor\": \"#2a3f5f\"}, \"type\": \"carpet\"}], \"choropleth\": [{\"colorbar\": {\"outlinewidth\": 0, \"ticks\": \"\"}, \"type\": \"choropleth\"}], \"contour\": [{\"colorbar\": {\"outlinewidth\": 0, \"ticks\": \"\"}, \"colorscale\": [[0.0, \"#0d0887\"], [0.1111111111111111, \"#46039f\"], [0.2222222222222222, \"#7201a8\"], [0.3333333333333333, \"#9c179e\"], [0.4444444444444444, \"#bd3786\"], [0.5555555555555556, \"#d8576b\"], [0.6666666666666666, \"#ed7953\"], [0.7777777777777778, \"#fb9f3a\"], [0.8888888888888888, \"#fdca26\"], [1.0, \"#f0f921\"]], \"type\": \"contour\"}], \"contourcarpet\": [{\"colorbar\": {\"outlinewidth\": 0, \"ticks\": \"\"}, \"type\": \"contourcarpet\"}], \"heatmap\": [{\"colorbar\": {\"outlinewidth\": 0, \"ticks\": \"\"}, \"colorscale\": [[0.0, \"#0d0887\"], [0.1111111111111111, \"#46039f\"], [0.2222222222222222, \"#7201a8\"], [0.3333333333333333, \"#9c179e\"], [0.4444444444444444, \"#bd3786\"], [0.5555555555555556, \"#d8576b\"], [0.6666666666666666, \"#ed7953\"], [0.7777777777777778, \"#fb9f3a\"], [0.8888888888888888, \"#fdca26\"], [1.0, \"#f0f921\"]], \"type\": \"heatmap\"}], \"heatmapgl\": [{\"colorbar\": {\"outlinewidth\": 0, \"ticks\": \"\"}, \"colorscale\": [[0.0, \"#0d0887\"], [0.1111111111111111, \"#46039f\"], [0.2222222222222222, \"#7201a8\"], [0.3333333333333333, \"#9c179e\"], [0.4444444444444444, \"#bd3786\"], [0.5555555555555556, \"#d8576b\"], [0.6666666666666666, \"#ed7953\"], [0.7777777777777778, \"#fb9f3a\"], [0.8888888888888888, \"#fdca26\"], [1.0, \"#f0f921\"]], \"type\": \"heatmapgl\"}], \"histogram\": [{\"marker\": {\"colorbar\": {\"outlinewidth\": 0, \"ticks\": \"\"}}, \"type\": \"histogram\"}], \"histogram2d\": [{\"colorbar\": {\"outlinewidth\": 0, \"ticks\": \"\"}, \"colorscale\": [[0.0, \"#0d0887\"], [0.1111111111111111, \"#46039f\"], [0.2222222222222222, \"#7201a8\"], [0.3333333333333333, \"#9c179e\"], [0.4444444444444444, \"#bd3786\"], [0.5555555555555556, \"#d8576b\"], [0.6666666666666666, \"#ed7953\"], [0.7777777777777778, \"#fb9f3a\"], [0.8888888888888888, \"#fdca26\"], [1.0, \"#f0f921\"]], \"type\": \"histogram2d\"}], \"histogram2dcontour\": [{\"colorbar\": {\"outlinewidth\": 0, \"ticks\": \"\"}, \"colorscale\": [[0.0, \"#0d0887\"], [0.1111111111111111, \"#46039f\"], [0.2222222222222222, \"#7201a8\"], [0.3333333333333333, \"#9c179e\"], [0.4444444444444444, \"#bd3786\"], [0.5555555555555556, \"#d8576b\"], [0.6666666666666666, \"#ed7953\"], [0.7777777777777778, \"#fb9f3a\"], [0.8888888888888888, \"#fdca26\"], [1.0, \"#f0f921\"]], \"type\": \"histogram2dcontour\"}], \"mesh3d\": [{\"colorbar\": {\"outlinewidth\": 0, \"ticks\": \"\"}, \"type\": \"mesh3d\"}], \"parcoords\": [{\"line\": {\"colorbar\": {\"outlinewidth\": 0, \"ticks\": \"\"}}, \"type\": \"parcoords\"}], \"pie\": [{\"automargin\": true, \"type\": \"pie\"}], \"scatter\": [{\"marker\": {\"colorbar\": {\"outlinewidth\": 0, \"ticks\": \"\"}}, \"type\": \"scatter\"}], \"scatter3d\": [{\"line\": {\"colorbar\": {\"outlinewidth\": 0, \"ticks\": \"\"}}, \"marker\": {\"colorbar\": {\"outlinewidth\": 0, \"ticks\": \"\"}}, \"type\": \"scatter3d\"}], \"scattercarpet\": [{\"marker\": {\"colorbar\": {\"outlinewidth\": 0, \"ticks\": \"\"}}, \"type\": \"scattercarpet\"}], \"scattergeo\": [{\"marker\": {\"colorbar\": {\"outlinewidth\": 0, \"ticks\": \"\"}}, \"type\": \"scattergeo\"}], \"scattergl\": [{\"marker\": {\"colorbar\": {\"outlinewidth\": 0, \"ticks\": \"\"}}, \"type\": \"scattergl\"}], \"scattermapbox\": [{\"marker\": {\"colorbar\": {\"outlinewidth\": 0, \"ticks\": \"\"}}, \"type\": \"scattermapbox\"}], \"scatterpolar\": [{\"marker\": {\"colorbar\": {\"outlinewidth\": 0, \"ticks\": \"\"}}, \"type\": \"scatterpolar\"}], \"scatterpolargl\": [{\"marker\": {\"colorbar\": {\"outlinewidth\": 0, \"ticks\": \"\"}}, \"type\": \"scatterpolargl\"}], \"scatterternary\": [{\"marker\": {\"colorbar\": {\"outlinewidth\": 0, \"ticks\": \"\"}}, \"type\": \"scatterternary\"}], \"surface\": [{\"colorbar\": {\"outlinewidth\": 0, \"ticks\": \"\"}, \"colorscale\": [[0.0, \"#0d0887\"], [0.1111111111111111, \"#46039f\"], [0.2222222222222222, \"#7201a8\"], [0.3333333333333333, \"#9c179e\"], [0.4444444444444444, \"#bd3786\"], [0.5555555555555556, \"#d8576b\"], [0.6666666666666666, \"#ed7953\"], [0.7777777777777778, \"#fb9f3a\"], [0.8888888888888888, \"#fdca26\"], [1.0, \"#f0f921\"]], \"type\": \"surface\"}], \"table\": [{\"cells\": {\"fill\": {\"color\": \"#EBF0F8\"}, \"line\": {\"color\": \"white\"}}, \"header\": {\"fill\": {\"color\": \"#C8D4E3\"}, \"line\": {\"color\": \"white\"}}, \"type\": \"table\"}]}, \"layout\": {\"annotationdefaults\": {\"arrowcolor\": \"#2a3f5f\", \"arrowhead\": 0, \"arrowwidth\": 1}, \"coloraxis\": {\"colorbar\": {\"outlinewidth\": 0, \"ticks\": \"\"}}, \"colorscale\": {\"diverging\": [[0, \"#8e0152\"], [0.1, \"#c51b7d\"], [0.2, \"#de77ae\"], [0.3, \"#f1b6da\"], [0.4, \"#fde0ef\"], [0.5, \"#f7f7f7\"], [0.6, \"#e6f5d0\"], [0.7, \"#b8e186\"], [0.8, \"#7fbc41\"], [0.9, \"#4d9221\"], [1, \"#276419\"]], \"sequential\": [[0.0, \"#0d0887\"], [0.1111111111111111, \"#46039f\"], [0.2222222222222222, \"#7201a8\"], [0.3333333333333333, \"#9c179e\"], [0.4444444444444444, \"#bd3786\"], [0.5555555555555556, \"#d8576b\"], [0.6666666666666666, \"#ed7953\"], [0.7777777777777778, \"#fb9f3a\"], [0.8888888888888888, \"#fdca26\"], [1.0, \"#f0f921\"]], \"sequentialminus\": [[0.0, \"#0d0887\"], [0.1111111111111111, \"#46039f\"], [0.2222222222222222, \"#7201a8\"], [0.3333333333333333, \"#9c179e\"], [0.4444444444444444, \"#bd3786\"], [0.5555555555555556, \"#d8576b\"], [0.6666666666666666, \"#ed7953\"], [0.7777777777777778, \"#fb9f3a\"], [0.8888888888888888, \"#fdca26\"], [1.0, \"#f0f921\"]]}, \"colorway\": [\"#636efa\", \"#EF553B\", \"#00cc96\", \"#ab63fa\", \"#FFA15A\", \"#19d3f3\", \"#FF6692\", \"#B6E880\", \"#FF97FF\", \"#FECB52\"], \"font\": {\"color\": \"#2a3f5f\"}, \"geo\": {\"bgcolor\": \"white\", \"lakecolor\": \"white\", \"landcolor\": \"#E5ECF6\", \"showlakes\": true, \"showland\": true, \"subunitcolor\": \"white\"}, \"hoverlabel\": {\"align\": \"left\"}, \"hovermode\": \"closest\", \"mapbox\": {\"style\": \"light\"}, \"paper_bgcolor\": \"white\", \"plot_bgcolor\": \"#E5ECF6\", \"polar\": {\"angularaxis\": {\"gridcolor\": \"white\", \"linecolor\": \"white\", \"ticks\": \"\"}, \"bgcolor\": \"#E5ECF6\", \"radialaxis\": {\"gridcolor\": \"white\", \"linecolor\": \"white\", \"ticks\": \"\"}}, \"scene\": {\"xaxis\": {\"backgroundcolor\": \"#E5ECF6\", \"gridcolor\": \"white\", \"gridwidth\": 2, \"linecolor\": \"white\", \"showbackground\": true, \"ticks\": \"\", \"zerolinecolor\": \"white\"}, \"yaxis\": {\"backgroundcolor\": \"#E5ECF6\", \"gridcolor\": \"white\", \"gridwidth\": 2, \"linecolor\": \"white\", \"showbackground\": true, \"ticks\": \"\", \"zerolinecolor\": \"white\"}, \"zaxis\": {\"backgroundcolor\": \"#E5ECF6\", \"gridcolor\": \"white\", \"gridwidth\": 2, \"linecolor\": \"white\", \"showbackground\": true, \"ticks\": \"\", \"zerolinecolor\": \"white\"}}, \"shapedefaults\": {\"line\": {\"color\": \"#2a3f5f\"}}, \"ternary\": {\"aaxis\": {\"gridcolor\": \"white\", \"linecolor\": \"white\", \"ticks\": \"\"}, \"baxis\": {\"gridcolor\": \"white\", \"linecolor\": \"white\", \"ticks\": \"\"}, \"bgcolor\": \"#E5ECF6\", \"caxis\": {\"gridcolor\": \"white\", \"linecolor\": \"white\", \"ticks\": \"\"}}, \"title\": {\"x\": 0.05}, \"xaxis\": {\"automargin\": true, \"gridcolor\": \"white\", \"linecolor\": \"white\", \"ticks\": \"\", \"title\": {\"standoff\": 15}, \"zerolinecolor\": \"white\", \"zerolinewidth\": 2}, \"yaxis\": {\"automargin\": true, \"gridcolor\": \"white\", \"linecolor\": \"white\", \"ticks\": \"\", \"title\": {\"standoff\": 15}, \"zerolinecolor\": \"white\", \"zerolinewidth\": 2}}}, \"title\": {\"text\": \"H1B Visa Applicants\"}},\n",
              "                        {\"responsive\": true}\n",
              "                    ).then(function(){\n",
              "                            \n",
              "var gd = document.getElementById('c14b677d-92af-485e-9496-7ef1f104b69a');\n",
              "var x = new MutationObserver(function (mutations, observer) {{\n",
              "        var display = window.getComputedStyle(gd).display;\n",
              "        if (!display || display === 'none') {{\n",
              "            console.log([gd, 'removed!']);\n",
              "            Plotly.purge(gd);\n",
              "            observer.disconnect();\n",
              "        }}\n",
              "}});\n",
              "\n",
              "// Listen for the removal of the full notebook cells\n",
              "var notebookContainer = gd.closest('#notebook-container');\n",
              "if (notebookContainer) {{\n",
              "    x.observe(notebookContainer, {childList: true});\n",
              "}}\n",
              "\n",
              "// Listen for the clearing of the current output cell\n",
              "var outputEl = gd.closest('.output');\n",
              "if (outputEl) {{\n",
              "    x.observe(outputEl, {childList: true});\n",
              "}}\n",
              "\n",
              "                        })\n",
              "                };\n",
              "                \n",
              "            </script>\n",
              "        </div>\n",
              "</body>\n",
              "</html>"
            ]
          },
          "metadata": {
            "tags": []
          }
        }
      ]
    },
    {
      "cell_type": "markdown",
      "metadata": {
        "id": "x0Ezna7q9Z5W"
      },
      "source": [
        "This choropleth map highlights the location of applicants. From the figure, we can see that the majority of the H-1B visa applicants are applying from California, New York, and Texas."
      ]
    },
    {
      "cell_type": "markdown",
      "metadata": {
        "id": "JBhAQWYa1Gtm"
      },
      "source": [
        "#### Acceptance Status\n"
      ]
    },
    {
      "cell_type": "code",
      "metadata": {
        "colab": {
          "base_uri": "https://localhost:8080/"
        },
        "id": "Jcu-Lefo5-v5",
        "outputId": "01dbddfd-c263-4328-df6d-dc86a24545d1"
      },
      "source": [
        "# Comparing the number of applications that are accepted or denied (Ignore withdrawn)\n",
        "accept_arr = df['CASE_STATUS'].value_counts()\n",
        "print(accept_arr)\n",
        "accept_val = list(accept_arr)[0:4]\n",
        "accept_label = list(accept_arr.index)[0:4]\n",
        "\n",
        "# Out of all the applications we can see that only a small percentage are denied (Exactly 2.67%)\n",
        "denied = (accept_arr['DENIED'] / df.shape[0]).round(4)\n",
        "print(str(denied*100) + '%')"
      ],
      "execution_count": null,
      "outputs": [
        {
          "output_type": "stream",
          "text": [
            "CERTIFIED                                             3615378\n",
            "CERTIFIED-WITHDRAWN                                    241703\n",
            "WITHDRAWN                                              122466\n",
            "DENIED                                                 109289\n",
            "PENDING QUALITY AND COMPLIANCE REVIEW - UNASSIGNED         15\n",
            "REJECTED                                                    2\n",
            "INVALIDATED                                                 1\n",
            "Name: CASE_STATUS, dtype: int64\n",
            "2.67%\n"
          ],
          "name": "stdout"
        }
      ]
    },
    {
      "cell_type": "code",
      "metadata": {
        "colab": {
          "base_uri": "https://localhost:8080/",
          "height": 456
        },
        "id": "4UyiLj8mzf2F",
        "outputId": "73fde306-3e8b-4633-fbb1-39770286ef00"
      },
      "source": [
        "tableau20 = [(31, 119, 180), (174, 199, 232), (255, 127, 14), (255, 187, 120),\n",
        "             (44, 160, 44), (152, 223, 138), (214, 39, 40), (255, 152, 150),\n",
        "             (148, 103, 189), (197, 176, 213), (140, 86, 75), (196, 156, 148),\n",
        "             (227, 119, 194), (247, 182, 210), (127, 127, 127), (199, 199, 199),\n",
        "             (188, 189, 34), (219, 219, 141), (23, 190, 207), (158, 218, 229)]\n",
        "\n",
        "for i in range(len(tableau20)):\n",
        "    r, g, b = tableau20[i]\n",
        "    tableau20[i] = (r / 255., g / 255., b / 255.)\n",
        "\n",
        "plt.figure(figsize=(10,7))\n",
        "df.CASE_STATUS.value_counts().plot(kind='barh',  color=tableau20)\n",
        "df.sort_values('CASE_STATUS')\n",
        "plt.title(\"NUMBER OF APPLICATIONS\")\n",
        "plt.show()"
      ],
      "execution_count": null,
      "outputs": [
        {
          "output_type": "display_data",
          "data": {
            "image/png": "[encoded data removed]",
            "text/plain": [
              "<Figure size 720x504 with 1 Axes>"
            ]
          },
          "metadata": {
            "tags": []
          }
        }
      ]
    },
    {
      "cell_type": "code",
      "metadata": {
        "colab": {
          "base_uri": "https://localhost:8080/",
          "height": 264
        },
        "id": "0F7hZUHu-Lpy",
        "outputId": "516d28d0-4a97-419c-c94b-eaa0145073c8"
      },
      "source": [
        "# Pie chart of accepted and denied applications\n",
        "fig, ax = plt.subplots()\n",
        "ax.pie(accept_val, explode = (0,0,0,0.25), labels = accept_label, autopct = '%1.1f%%',\n",
        "       pctdistance=1.2, labeldistance=1.4, wedgeprops={'alpha':0.7})\n",
        "ax.axis('equal')\n",
        "plt.title('Case Status')\n",
        "plt.show()"
      ],
      "execution_count": null,
      "outputs": [
        {
          "output_type": "display_data",
          "data": {
            "image/png": "[encoded data removed]",
            "text/plain": [
              "<Figure size 432x288 with 1 Axes>"
            ]
          },
          "metadata": {
            "tags": []
          }
        }
      ]
    },
    {
      "cell_type": "markdown",
      "metadata": {
        "id": "9bg5eUPs1dCM"
      },
      "source": [
        "#### Applicant Company Analysis"
      ]
    },
    {
      "cell_type": "code",
      "metadata": {
        "colab": {
          "base_uri": "https://localhost:8080/",
          "height": 281
        },
        "id": "w_5PyjjA-PD8",
        "outputId": "bc87b6b6-03ca-4146-edcf-b21df4929e12"
      },
      "source": [
        "fig, ax = plt.subplots()\n",
        "ax = df['EMPLOYER_NAME'].groupby([df['EMPLOYER_NAME']]).count().sort_values(ascending=False).head(10).plot(kind='barh', title=\"Top 10 Applicant over 2011 to 2018\")\n",
        "ax.set_ylabel(\"\")\n",
        "plt.show()"
      ],
      "execution_count": null,
      "outputs": [
        {
          "output_type": "display_data",
          "data": {
            "image/png": "[encoded data removed]",
            "text/plain": [
              "<Figure size 432x288 with 1 Axes>"
            ]
          },
          "metadata": {
            "tags": []
          }
        }
      ]
    },
    {
      "cell_type": "code",
      "metadata": {
        "id": "NbJPhek--tFi"
      },
      "source": [
        "topEmp = list(df['EMPLOYER_NAME'][df['EMPLOYMENT_START_DATE'] >= 2015].groupby(df['EMPLOYER_NAME']).count().sort_values(ascending=False).head(10).index)\n",
        "byEmpYear = df[['PREVAILING_WAGE', 'EMPLOYER_NAME', 'EMPLOYMENT_START_DATE']][df['EMPLOYER_NAME'].isin(topEmp)]\n",
        "byEmpYear = byEmpYear.groupby([df['EMPLOYER_NAME'],df['EMPLOYMENT_START_DATE']])"
      ],
      "execution_count": null,
      "outputs": []
    },
    {
      "cell_type": "code",
      "metadata": {
        "colab": {
          "base_uri": "https://localhost:8080/",
          "height": 457
        },
        "id": "sbFK61KHF-vW",
        "outputId": "429eb624-4c9c-41d2-a7d7-acf19ac335cf"
      },
      "source": [
        "markers=['o','v','^','<','>','d','s','p','*','h','x','D','o','v','^','<','>','d','s','p','*','h','x','D']\n",
        "fig = plt.figure(figsize=(12,7))\n",
        "for company in topEmp:\n",
        "    tmp = byEmpYear.count().loc[company]\n",
        "    plt.plot(tmp.index.values, tmp[\"PREVAILING_WAGE\"].values, label=company, linewidth=2,marker=markers[topEmp.index(company)])\n",
        "plt.xlabel(\"Year\")\n",
        "plt.ylabel(\"Number of Applications\")\n",
        "plt.legend(loc='center left', bbox_to_anchor=(1, 0.5))\n",
        "plt.title('Number of Applications of Top 10 Applicants')\n",
        "plt.show()"
      ],
      "execution_count": null,
      "outputs": [
        {
          "output_type": "display_data",
          "data": {
            "image/png": "[encoded data removed]",
            "text/plain": [
              "<Figure size 864x504 with 1 Axes>"
            ]
          },
          "metadata": {
            "tags": []
          }
        }
      ]
    },
    {
      "cell_type": "markdown",
      "metadata": {
        "id": "_QF3hhT9KkKr"
      },
      "source": [
        "- INFOSIS shows a very rapid development, especially during period from 2011 to 2013, where it came from about zero to 32k applications and a rapid decline 2016 onwards.\n",
        "- TATA also shows a significant development.\n",
        "- Most of the top applicants are from India."
      ]
    },
    {
      "cell_type": "markdown",
      "metadata": {
        "id": "M0v6xuvC1kkx"
      },
      "source": [
        "#### Jobs Analysis"
      ]
    },
    {
      "cell_type": "code",
      "metadata": {
        "colab": {
          "base_uri": "https://localhost:8080/",
          "height": 743
        },
        "id": "pOq10yTWLNBc",
        "outputId": "6a2c0408-1730-4926-f058-f084fb12682c"
      },
      "source": [
        "PopJobs = df[['JOB_TITLE', 'EMPLOYER_NAME', 'PREVAILING_WAGE']][df['EMPLOYER_NAME'].isin(topEmp)].groupby(['JOB_TITLE'])\n",
        "topJobs = list(PopJobs.count().sort_values(by='EMPLOYER_NAME', ascending=False).head(30).index)\n",
        "df_2 = PopJobs.count().loc[topJobs].assign(mean_wage=PopJobs.mean().loc[topJobs])\n",
        "fig = plt.figure(figsize=(10,12))\n",
        "ax1 = fig.add_subplot(111)\n",
        "ax2 = ax1.twiny()\n",
        "width = 0.35\n",
        "df_2.EMPLOYER_NAME.plot(kind='barh', ax=ax1, color='C0', width=0.4, position=0, label='# of Applications')\n",
        "df_2.mean_wage.plot(kind='barh', ax=ax2, color='C7', width=0.4, position=1, label='Mean Salary')\n",
        "ax1.set_xlabel('Number of Applications')\n",
        "ax1.set_ylabel('')\n",
        "ax1.legend(loc=(0.75,0.75))\n",
        "ax2.set_xlabel('Mean Salary')\n",
        "ax2.set_ylabel('Job Title')\n",
        "ax2.legend(loc=(0.75,0.70))\n",
        "plt.show()"
      ],
      "execution_count": null,
      "outputs": [
        {
          "output_type": "display_data",
          "data": {
            "image/png": "[encoded data removed]",
            "text/plain": [
              "<Figure size 720x864 with 2 Axes>"
            ]
          },
          "metadata": {
            "tags": []
          }
        }
      ]
    },
    {
      "cell_type": "markdown",
      "metadata": {
        "id": "wSaKRz3xQaAw"
      },
      "source": [
        "Top jobs from top 10 applications are mostly IT jobs. The most popular jobs are \"Technology Lead\" and \"Technology Analyst\" but their offering salary are not top, they are about middle. The positions offering the highest salary are \"Analyst\" and \"Manager\", which is absolutely understandable."
      ]
    },
    {
      "cell_type": "markdown",
      "metadata": {
        "id": "mro5frAi8j-u"
      },
      "source": [
        "# Feature Engineering"
      ]
    },
    {
      "cell_type": "markdown",
      "metadata": {
        "id": "-zJF0PZ68o6n"
      },
      "source": [
        "### Finding and removing outliers"
      ]
    },
    {
      "cell_type": "code",
      "metadata": {
        "colab": {
          "base_uri": "https://localhost:8080/"
        },
        "id": "DeOK2YGB9GI4",
        "outputId": "5369ec3e-84a0-44ed-aac9-5b8b49b92c42"
      },
      "source": [
        "df['PREVAILING_WAGE'].max()"
      ],
      "execution_count": null,
      "outputs": [
        {
          "output_type": "execute_result",
          "data": {
            "text/plain": [
              "6997606720.0"
            ]
          },
          "metadata": {
            "tags": []
          },
          "execution_count": 34
        }
      ]
    },
    {
      "cell_type": "code",
      "metadata": {
        "id": "CV5c4c5MRE_h"
      },
      "source": [
        "df = df[df['PREVAILING_WAGE'] <= 500000]"
      ],
      "execution_count": null,
      "outputs": []
    },
    {
      "cell_type": "markdown",
      "metadata": {
        "id": "O-F4zf5b1z9j"
      },
      "source": [
        "#### Generalising the job categories"
      ]
    },
    {
      "cell_type": "code",
      "metadata": {
        "id": "qQ3ciX_YCzLK"
      },
      "source": [
        "%%capture\n",
        "import sys\n",
        "\n",
        "df['SOC_NAME1'] = 'others'\n",
        "df['SOC_NAME1'][df['SOC_NAME'].str.lower().str.contains('computer','software')] = 'it'\n",
        "df['SOC_NAME1'][df['SOC_NAME'].str.lower().str.contains('software|web')] = 'it'\n",
        "df['SOC_NAME1'][df['SOC_NAME'].str.lower().str.contains('chief','management')] = 'manager'\n",
        "df['SOC_NAME1'][df['SOC_NAME'].str.lower().str.contains('manager')] = 'manager'\n",
        "df['SOC_NAME1'][df['SOC_NAME'].str.lower().str.contains('mechanical')] = 'mechanical'\n",
        "df['SOC_NAME1'][df['SOC_NAME'].str.lower().str.contains('database')] = 'database'\n",
        "df['SOC_NAME1'][df['SOC_NAME'].str.lower().str.contains('sales','market')] = 'scm'\n",
        "df['SOC_NAME1'][df['SOC_NAME'].str.lower().str.contains('financial')] = 'finance'\n",
        "df['SOC_NAME1'][df['SOC_NAME'].str.lower().str.contains('treasure')] = 'finance'\n",
        "df['SOC_NAME1'][df['SOC_NAME'].str.lower().str.contains('public','fundraising')] = 'pr'\n",
        "df['SOC_NAME1'][df['SOC_NAME'].str.lower().str.contains('education','law')] = 'administrative'\n",
        "df['SOC_NAME1'][df['SOC_NAME'].str.lower().str.contains('auditors','compliance')] = 'audit'\n",
        "df['SOC_NAME1'][df['SOC_NAME'].str.lower().str.contains('distribution','logistics')] = 'scm'\n",
        "df['SOC_NAME1'][df['SOC_NAME'].str.lower().str.contains('recruiters','human')] = 'hr'\n",
        "df['SOC_NAME1'][df['SOC_NAME'].str.lower().str.contains('agricultural','farm')] = 'agri'\n",
        "df['SOC_NAME1'][df['SOC_NAME'].str.lower().str.contains('construction','architectural')] = 'estate'\n",
        "df['SOC_NAME1'][df['SOC_NAME'].str.lower().str.contains('forencsic','health')] = 'medical'\n",
        "df['SOC_NAME1'][df['SOC_NAME'].str.lower().str.contains('bio')] = 'medical'\n",
        "df['SOC_NAME1'][df['SOC_NAME'].str.lower().str.contains('teachers')] = 'education'"
      ],
      "execution_count": null,
      "outputs": []
    },
    {
      "cell_type": "code",
      "metadata": {
        "colab": {
          "base_uri": "https://localhost:8080/"
        },
        "id": "WHpwxbCzjkli",
        "outputId": "09d4d560-916e-45d6-a4fa-eb5f7891c010"
      },
      "source": [
        "# Garbage Collection\n",
        "gc.collect()"
      ],
      "execution_count": null,
      "outputs": [
        {
          "output_type": "execute_result",
          "data": {
            "text/plain": [
              "37097"
            ]
          },
          "metadata": {
            "tags": []
          },
          "execution_count": 37
        }
      ]
    },
    {
      "cell_type": "code",
      "metadata": {
        "colab": {
          "base_uri": "https://localhost:8080/"
        },
        "id": "5l8tQ5zHmHY0",
        "outputId": "c8c35985-0e80-4b51-afa2-70233ffe591f"
      },
      "source": [
        "df['SOC_NAME1'].value_counts()"
      ],
      "execution_count": null,
      "outputs": [
        {
          "output_type": "execute_result",
          "data": {
            "text/plain": [
              "it                2522625\n",
              "others             893429\n",
              "manager            135794\n",
              "education          112032\n",
              "finance            101266\n",
              "audit               74004\n",
              "medical             70651\n",
              "mechanical          65614\n",
              "database            54328\n",
              "scm                 29839\n",
              "pr                  11354\n",
              "administrative       7597\n",
              "estate               4217\n",
              "agri                 3039\n",
              "hr                    219\n",
              "Name: SOC_NAME1, dtype: int64"
            ]
          },
          "metadata": {
            "tags": []
          },
          "execution_count": 38
        }
      ]
    },
    {
      "cell_type": "markdown",
      "metadata": {
        "id": "yHYTucf-ClUc"
      },
      "source": [
        "#### Encoding the Labels"
      ]
    },
    {
      "cell_type": "code",
      "metadata": {
        "colab": {
          "base_uri": "https://localhost:8080/",
          "height": 1000
        },
        "id": "6P6VogvxAHsX",
        "outputId": "4ce57793-1549-44d1-eff0-090474183460"
      },
      "source": [
        "labelencoder_1 = LabelEncoder()\n",
        "\n",
        "# df['CASE_STATUS_enc'] = labelencoder_1.fit_transform(df['CASE_STATUS'])\n",
        "df['CASE_STATUS_enc'] = df['CASE_STATUS'].map({'CERTIFIED' : 1, 'CERTIFIED-WITHDRAWN' : 1, 'DENIED' : 0, 'WITHDRAWN' : 0,\n",
        "                                           'PENDING QUALITY AND COMPLIANCE REVIEW - UNASSIGNED' : 0, 'REJECTED' : 0, 'INVALIDATED' : 0})\n",
        "\n",
        "labelencoder_2 = LabelEncoder()\n",
        "df['EMPLOYER_STATE_enc'] = labelencoder_2.fit_transform(df['EMPLOYER_STATE'].astype(str))\n",
        "\n",
        "labelencoder_3 = LabelEncoder()\n",
        "df['SOC_NAME_enc'] = labelencoder_3.fit_transform(df['SOC_NAME1'].astype(str))\n",
        "df"
      ],
      "execution_count": null,
      "outputs": [
        {
          "output_type": "stream",
          "text": [
            "/usr/local/lib/python3.7/dist-packages/ipykernel_launcher.py:5: SettingWithCopyWarning:\n",
            "\n",
            "\n",
            "A value is trying to be set on a copy of a slice from a DataFrame.\n",
            "Try using .loc[row_indexer,col_indexer] = value instead\n",
            "\n",
            "See the caveats in the documentation: https://pandas.pydata.org/pandas-docs/stable/user_guide/indexing.html#returning-a-view-versus-a-copy\n",
            "\n",
            "/usr/local/lib/python3.7/dist-packages/ipykernel_launcher.py:8: SettingWithCopyWarning:\n",
            "\n",
            "\n",
            "A value is trying to be set on a copy of a slice from a DataFrame.\n",
            "Try using .loc[row_indexer,col_indexer] = value instead\n",
            "\n",
            "See the caveats in the documentation: https://pandas.pydata.org/pandas-docs/stable/user_guide/indexing.html#returning-a-view-versus-a-copy\n",
            "\n",
            "/usr/local/lib/python3.7/dist-packages/ipykernel_launcher.py:11: SettingWithCopyWarning:\n",
            "\n",
            "\n",
            "A value is trying to be set on a copy of a slice from a DataFrame.\n",
            "Try using .loc[row_indexer,col_indexer] = value instead\n",
            "\n",
            "See the caveats in the documentation: https://pandas.pydata.org/pandas-docs/stable/user_guide/indexing.html#returning-a-view-versus-a-copy\n",
            "\n"
          ],
          "name": "stderr"
        },
        {
          "output_type": "execute_result",
          "data": {
            "text/html": [
              "<div>\n",
              "<style scoped>\n",
              "    .dataframe tbody tr th:only-of-type {\n",
              "        vertical-align: middle;\n",
              "    }\n",
              "\n",
              "    .dataframe tbody tr th {\n",
              "        vertical-align: top;\n",
              "    }\n",
              "\n",
              "    .dataframe thead th {\n",
              "        text-align: right;\n",
              "    }\n",
              "</style>\n",
              "<table border=\"1\" class=\"dataframe\">\n",
              "  <thead>\n",
              "    <tr style=\"text-align: right;\">\n",
              "      <th></th>\n",
              "      <th>CASE_STATUS</th>\n",
              "      <th>EMPLOYMENT_START_DATE</th>\n",
              "      <th>EMPLOYER_NAME</th>\n",
              "      <th>EMPLOYER_STATE</th>\n",
              "      <th>JOB_TITLE</th>\n",
              "      <th>SOC_NAME</th>\n",
              "      <th>PREVAILING_WAGE</th>\n",
              "      <th>SOC_NAME1</th>\n",
              "      <th>CASE_STATUS_enc</th>\n",
              "      <th>EMPLOYER_STATE_enc</th>\n",
              "      <th>SOC_NAME_enc</th>\n",
              "    </tr>\n",
              "  </thead>\n",
              "  <tbody>\n",
              "    <tr>\n",
              "      <th>0</th>\n",
              "      <td>CERTIFIED-WITHDRAWN</td>\n",
              "      <td>2016.0</td>\n",
              "      <td>UNIVERSITY OF MICHIGAN</td>\n",
              "      <td>MI</td>\n",
              "      <td>POSTDOCTORAL RESEARCH FELLOW</td>\n",
              "      <td>BIOCHEMISTS AND BIOPHYSICISTS</td>\n",
              "      <td>36067.0</td>\n",
              "      <td>medical</td>\n",
              "      <td>1</td>\n",
              "      <td>24</td>\n",
              "      <td>11</td>\n",
              "    </tr>\n",
              "    <tr>\n",
              "      <th>1</th>\n",
              "      <td>CERTIFIED-WITHDRAWN</td>\n",
              "      <td>2016.0</td>\n",
              "      <td>GOODMAN NETWORKS, INC.</td>\n",
              "      <td>TX</td>\n",
              "      <td>CHIEF OPERATING OFFICER</td>\n",
              "      <td>CHIEF EXECUTIVES</td>\n",
              "      <td>242674.0</td>\n",
              "      <td>manager</td>\n",
              "      <td>1</td>\n",
              "      <td>48</td>\n",
              "      <td>9</td>\n",
              "    </tr>\n",
              "    <tr>\n",
              "      <th>2</th>\n",
              "      <td>CERTIFIED-WITHDRAWN</td>\n",
              "      <td>2016.0</td>\n",
              "      <td>PORTS AMERICA GROUP, INC.</td>\n",
              "      <td>NJ</td>\n",
              "      <td>CHIEF PROCESS OFFICER</td>\n",
              "      <td>CHIEF EXECUTIVES</td>\n",
              "      <td>193066.0</td>\n",
              "      <td>manager</td>\n",
              "      <td>1</td>\n",
              "      <td>35</td>\n",
              "      <td>9</td>\n",
              "    </tr>\n",
              "    <tr>\n",
              "      <th>3</th>\n",
              "      <td>CERTIFIED-WITHDRAWN</td>\n",
              "      <td>2016.0</td>\n",
              "      <td>GATES CORPORATION, A WHOLLY-OWNED SUBSIDIARY O...</td>\n",
              "      <td>CO</td>\n",
              "      <td>REGIONAL PRESIDEN, AMERICAS</td>\n",
              "      <td>CHIEF EXECUTIVES</td>\n",
              "      <td>220314.0</td>\n",
              "      <td>manager</td>\n",
              "      <td>1</td>\n",
              "      <td>6</td>\n",
              "      <td>9</td>\n",
              "    </tr>\n",
              "    <tr>\n",
              "      <th>4</th>\n",
              "      <td>WITHDRAWN</td>\n",
              "      <td>2016.0</td>\n",
              "      <td>PEABODY INVESTMENTS CORP.</td>\n",
              "      <td>MO</td>\n",
              "      <td>PRESIDENT MONGOLIA AND INDIA</td>\n",
              "      <td>CHIEF EXECUTIVES</td>\n",
              "      <td>157518.4</td>\n",
              "      <td>manager</td>\n",
              "      <td>0</td>\n",
              "      <td>26</td>\n",
              "      <td>9</td>\n",
              "    </tr>\n",
              "    <tr>\n",
              "      <th>...</th>\n",
              "      <td>...</td>\n",
              "      <td>...</td>\n",
              "      <td>...</td>\n",
              "      <td>...</td>\n",
              "      <td>...</td>\n",
              "      <td>...</td>\n",
              "      <td>...</td>\n",
              "      <td>...</td>\n",
              "      <td>...</td>\n",
              "      <td>...</td>\n",
              "      <td>...</td>\n",
              "    </tr>\n",
              "    <tr>\n",
              "      <th>4088862</th>\n",
              "      <td>CERTIFIED</td>\n",
              "      <td>2018.0</td>\n",
              "      <td>VIRTUSA CORPORATION</td>\n",
              "      <td>MA</td>\n",
              "      <td>COMPUTER SYSTEMS ENGINEER 1</td>\n",
              "      <td>COMPUTER OCCUPATIONS, ALL OTHER</td>\n",
              "      <td>67350.0</td>\n",
              "      <td>it</td>\n",
              "      <td>1</td>\n",
              "      <td>21</td>\n",
              "      <td>8</td>\n",
              "    </tr>\n",
              "    <tr>\n",
              "      <th>4088863</th>\n",
              "      <td>CERTIFIED</td>\n",
              "      <td>2018.0</td>\n",
              "      <td>CLASSROOM SUPPORT SERVICES LLC</td>\n",
              "      <td>MI</td>\n",
              "      <td>SOFTWARE ENGINEER</td>\n",
              "      <td>SOFTWARE DEVELOPERS, APPLICATIONS</td>\n",
              "      <td>67246.0</td>\n",
              "      <td>it</td>\n",
              "      <td>1</td>\n",
              "      <td>24</td>\n",
              "      <td>8</td>\n",
              "    </tr>\n",
              "    <tr>\n",
              "      <th>4088864</th>\n",
              "      <td>CERTIFIED</td>\n",
              "      <td>2018.0</td>\n",
              "      <td>CROCKETT TECHNICAL LLC</td>\n",
              "      <td>TX</td>\n",
              "      <td>ASSOCIATE SOFTWARE ENGINEER</td>\n",
              "      <td>SOFTWARE DEVELOPERS, APPLICATIONS</td>\n",
              "      <td>90646.0</td>\n",
              "      <td>it</td>\n",
              "      <td>1</td>\n",
              "      <td>48</td>\n",
              "      <td>8</td>\n",
              "    </tr>\n",
              "    <tr>\n",
              "      <th>4088865</th>\n",
              "      <td>CERTIFIED</td>\n",
              "      <td>2018.0</td>\n",
              "      <td>BRUNSWICK CORPORATION</td>\n",
              "      <td>IL</td>\n",
              "      <td>MANAGER GLOBAL SUPPLY CHAIN BUSINESS ANALYTICS</td>\n",
              "      <td>INDUSTRIAL ENGINEERS</td>\n",
              "      <td>68598.0</td>\n",
              "      <td>others</td>\n",
              "      <td>1</td>\n",
              "      <td>16</td>\n",
              "      <td>12</td>\n",
              "    </tr>\n",
              "    <tr>\n",
              "      <th>4088866</th>\n",
              "      <td>CERTIFIED</td>\n",
              "      <td>2018.0</td>\n",
              "      <td>IBM INDIA PRIVATE LIMITED</td>\n",
              "      <td>NC</td>\n",
              "      <td>PACKAGE SOLUTION CONSULTANT</td>\n",
              "      <td>COMPUTER SYSTEMS ANALYST</td>\n",
              "      <td>78416.0</td>\n",
              "      <td>it</td>\n",
              "      <td>1</td>\n",
              "      <td>31</td>\n",
              "      <td>8</td>\n",
              "    </tr>\n",
              "  </tbody>\n",
              "</table>\n",
              "<p>4086008 rows × 11 columns</p>\n",
              "</div>"
            ],
            "text/plain": [
              "                 CASE_STATUS  ...  SOC_NAME_enc\n",
              "0        CERTIFIED-WITHDRAWN  ...            11\n",
              "1        CERTIFIED-WITHDRAWN  ...             9\n",
              "2        CERTIFIED-WITHDRAWN  ...             9\n",
              "3        CERTIFIED-WITHDRAWN  ...             9\n",
              "4                  WITHDRAWN  ...             9\n",
              "...                      ...  ...           ...\n",
              "4088862            CERTIFIED  ...             8\n",
              "4088863            CERTIFIED  ...             8\n",
              "4088864            CERTIFIED  ...             8\n",
              "4088865            CERTIFIED  ...            12\n",
              "4088866            CERTIFIED  ...             8\n",
              "\n",
              "[4086008 rows x 11 columns]"
            ]
          },
          "metadata": {
            "tags": []
          },
          "execution_count": 39
        }
      ]
    },
    {
      "cell_type": "markdown",
      "metadata": {
        "id": "uf8tvVc12FtR"
      },
      "source": [
        "#### Removing unnecessary columns"
      ]
    },
    {
      "cell_type": "code",
      "metadata": {
        "colab": {
          "base_uri": "https://localhost:8080/"
        },
        "id": "QX5-6iLHmjDV",
        "outputId": "20f37d78-d8c0-40f5-97e8-4f746314e713"
      },
      "source": [
        "df.columns"
      ],
      "execution_count": null,
      "outputs": [
        {
          "output_type": "execute_result",
          "data": {
            "text/plain": [
              "Index(['CASE_STATUS', 'EMPLOYMENT_START_DATE', 'EMPLOYER_NAME',\n",
              "       'EMPLOYER_STATE', 'JOB_TITLE', 'SOC_NAME', 'PREVAILING_WAGE',\n",
              "       'SOC_NAME1', 'CASE_STATUS_enc', 'EMPLOYER_STATE_enc', 'SOC_NAME_enc'],\n",
              "      dtype='object')"
            ]
          },
          "metadata": {
            "tags": []
          },
          "execution_count": 40
        }
      ]
    },
    {
      "cell_type": "code",
      "metadata": {
        "colab": {
          "base_uri": "https://localhost:8080/",
          "height": 414
        },
        "id": "FKPJ6ZnRmlOn",
        "outputId": "cba88ce6-027e-44f6-b0da-51d0375c6918"
      },
      "source": [
        "df_final = df.drop(['CASE_STATUS','EMPLOYER_NAME', 'SOC_NAME','SOC_NAME1','JOB_TITLE','EMPLOYER_STATE'], axis = 1)\n",
        "df_final"
      ],
      "execution_count": null,
      "outputs": [
        {
          "output_type": "execute_result",
          "data": {
            "text/html": [
              "<div>\n",
              "<style scoped>\n",
              "    .dataframe tbody tr th:only-of-type {\n",
              "        vertical-align: middle;\n",
              "    }\n",
              "\n",
              "    .dataframe tbody tr th {\n",
              "        vertical-align: top;\n",
              "    }\n",
              "\n",
              "    .dataframe thead th {\n",
              "        text-align: right;\n",
              "    }\n",
              "</style>\n",
              "<table border=\"1\" class=\"dataframe\">\n",
              "  <thead>\n",
              "    <tr style=\"text-align: right;\">\n",
              "      <th></th>\n",
              "      <th>EMPLOYMENT_START_DATE</th>\n",
              "      <th>PREVAILING_WAGE</th>\n",
              "      <th>CASE_STATUS_enc</th>\n",
              "      <th>EMPLOYER_STATE_enc</th>\n",
              "      <th>SOC_NAME_enc</th>\n",
              "    </tr>\n",
              "  </thead>\n",
              "  <tbody>\n",
              "    <tr>\n",
              "      <th>0</th>\n",
              "      <td>2016.0</td>\n",
              "      <td>36067.0</td>\n",
              "      <td>1</td>\n",
              "      <td>24</td>\n",
              "      <td>11</td>\n",
              "    </tr>\n",
              "    <tr>\n",
              "      <th>1</th>\n",
              "      <td>2016.0</td>\n",
              "      <td>242674.0</td>\n",
              "      <td>1</td>\n",
              "      <td>48</td>\n",
              "      <td>9</td>\n",
              "    </tr>\n",
              "    <tr>\n",
              "      <th>2</th>\n",
              "      <td>2016.0</td>\n",
              "      <td>193066.0</td>\n",
              "      <td>1</td>\n",
              "      <td>35</td>\n",
              "      <td>9</td>\n",
              "    </tr>\n",
              "    <tr>\n",
              "      <th>3</th>\n",
              "      <td>2016.0</td>\n",
              "      <td>220314.0</td>\n",
              "      <td>1</td>\n",
              "      <td>6</td>\n",
              "      <td>9</td>\n",
              "    </tr>\n",
              "    <tr>\n",
              "      <th>4</th>\n",
              "      <td>2016.0</td>\n",
              "      <td>157518.4</td>\n",
              "      <td>0</td>\n",
              "      <td>26</td>\n",
              "      <td>9</td>\n",
              "    </tr>\n",
              "    <tr>\n",
              "      <th>...</th>\n",
              "      <td>...</td>\n",
              "      <td>...</td>\n",
              "      <td>...</td>\n",
              "      <td>...</td>\n",
              "      <td>...</td>\n",
              "    </tr>\n",
              "    <tr>\n",
              "      <th>4088862</th>\n",
              "      <td>2018.0</td>\n",
              "      <td>67350.0</td>\n",
              "      <td>1</td>\n",
              "      <td>21</td>\n",
              "      <td>8</td>\n",
              "    </tr>\n",
              "    <tr>\n",
              "      <th>4088863</th>\n",
              "      <td>2018.0</td>\n",
              "      <td>67246.0</td>\n",
              "      <td>1</td>\n",
              "      <td>24</td>\n",
              "      <td>8</td>\n",
              "    </tr>\n",
              "    <tr>\n",
              "      <th>4088864</th>\n",
              "      <td>2018.0</td>\n",
              "      <td>90646.0</td>\n",
              "      <td>1</td>\n",
              "      <td>48</td>\n",
              "      <td>8</td>\n",
              "    </tr>\n",
              "    <tr>\n",
              "      <th>4088865</th>\n",
              "      <td>2018.0</td>\n",
              "      <td>68598.0</td>\n",
              "      <td>1</td>\n",
              "      <td>16</td>\n",
              "      <td>12</td>\n",
              "    </tr>\n",
              "    <tr>\n",
              "      <th>4088866</th>\n",
              "      <td>2018.0</td>\n",
              "      <td>78416.0</td>\n",
              "      <td>1</td>\n",
              "      <td>31</td>\n",
              "      <td>8</td>\n",
              "    </tr>\n",
              "  </tbody>\n",
              "</table>\n",
              "<p>4086008 rows × 5 columns</p>\n",
              "</div>"
            ],
            "text/plain": [
              "         EMPLOYMENT_START_DATE  ...  SOC_NAME_enc\n",
              "0                       2016.0  ...            11\n",
              "1                       2016.0  ...             9\n",
              "2                       2016.0  ...             9\n",
              "3                       2016.0  ...             9\n",
              "4                       2016.0  ...             9\n",
              "...                        ...  ...           ...\n",
              "4088862                 2018.0  ...             8\n",
              "4088863                 2018.0  ...             8\n",
              "4088864                 2018.0  ...             8\n",
              "4088865                 2018.0  ...            12\n",
              "4088866                 2018.0  ...             8\n",
              "\n",
              "[4086008 rows x 5 columns]"
            ]
          },
          "metadata": {
            "tags": []
          },
          "execution_count": 41
        }
      ]
    },
    {
      "cell_type": "markdown",
      "metadata": {
        "id": "CluyokYZHemx"
      },
      "source": [
        "#### Calculating the Coorelation"
      ]
    },
    {
      "cell_type": "code",
      "metadata": {
        "colab": {
          "base_uri": "https://localhost:8080/",
          "height": 411
        },
        "id": "gBR2JbomGSxv",
        "outputId": "25c4dd07-a351-4601-e9a1-158bbd9b3dd2"
      },
      "source": [
        "sns.heatmap(df_final.corr(), annot=True, cmap=\"RdYlGn\", annot_kws={\"size\":15})"
      ],
      "execution_count": null,
      "outputs": [
        {
          "output_type": "execute_result",
          "data": {
            "text/plain": [
              "<matplotlib.axes._subplots.AxesSubplot at 0x7f39d28cb150>"
            ]
          },
          "metadata": {
            "tags": []
          },
          "execution_count": 39
        },
        {
          "output_type": "display_data",
          "data": {
            "image/png": "[encoded data removed]",
            "text/plain": [
              "<Figure size 432x288 with 2 Axes>"
            ]
          },
          "metadata": {
            "tags": []
          }
        }
      ]
    },
    {
      "cell_type": "markdown",
      "metadata": {
        "id": "wRdCDpAQ2WRm"
      },
      "source": [
        "Variables are weakly coorelated. So we will not remove any of the variables"
      ]
    },
    {
      "cell_type": "markdown",
      "metadata": {
        "id": "pIi7phQ6ntfk"
      },
      "source": [
        "### Dividing into dependant and independant variables"
      ]
    },
    {
      "cell_type": "code",
      "metadata": {
        "id": "LsFZnDvqHhLD"
      },
      "source": [
        "x = df_final.drop(['CASE_STATUS_enc'], axis=1) # Independent variables\n",
        "y = df_final['CASE_STATUS_enc'] # Dependent variables"
      ],
      "execution_count": null,
      "outputs": []
    },
    {
      "cell_type": "markdown",
      "metadata": {
        "id": "PqDkEq6O22K8"
      },
      "source": [
        "# Model Building"
      ]
    },
    {
      "cell_type": "markdown",
      "metadata": {
        "id": "3oPZwn1aJfS6"
      },
      "source": [
        "## 1. Logistic Regression with Upscaled dataset\n",
        "\n",
        "The dataset is highly imbalanced. To ensure that the minority class gets trained, we can upscale it to increase its accuracy. The downside of this is overfitting."
      ]
    },
    {
      "cell_type": "code",
      "metadata": {
        "colab": {
          "base_uri": "https://localhost:8080/"
        },
        "id": "AtpqGw5I-Fqy",
        "outputId": "0c7e0193-876b-4843-a9cb-ccab40880785"
      },
      "source": [
        "# Separate majority and minority classes\n",
        "df_majority = df_final[df_final.CASE_STATUS_enc==1]\n",
        "df_minority = df_final[df_final.CASE_STATUS_enc==0]\n",
        "\n",
        "# Upsample minority class\n",
        "df_minority_upsampled = resample(df_minority,\n",
        "                                 replace=True,     # sample with replacement\n",
        "                                 n_samples=3856979,    # to match majority class\n",
        "                                 random_state=123) # reproducible results\n",
        "\n",
        "# Combine majority class with upsampled minority class\n",
        "df_upsampled = pd.concat([df_majority, df_minority_upsampled])\n",
        "\n",
        "# Display new class counts\n",
        "df_upsampled.CASE_STATUS_enc.value_counts()"
      ],
      "execution_count": null,
      "outputs": [
        {
          "output_type": "execute_result",
          "data": {
            "text/plain": [
              "1    3856979\n",
              "0    3856979\n",
              "Name: CASE_STATUS_enc, dtype: int64"
            ]
          },
          "metadata": {
            "tags": []
          },
          "execution_count": 41
        }
      ]
    },
    {
      "cell_type": "code",
      "metadata": {
        "id": "p0_u2yTwDDKs"
      },
      "source": [
        "x = df_upsampled.drop(['CASE_STATUS_enc'], axis=1) # Independent variables\n",
        "y = df_upsampled['CASE_STATUS_enc'] # Dependent variables\n",
        "x_train, x_test, y_train, y_test = train_test_split(x, y, test_size = 0.3, random_state = 1234)"
      ],
      "execution_count": null,
      "outputs": []
    },
    {
      "cell_type": "code",
      "metadata": {
        "id": "J1LNxWJdKdG3"
      },
      "source": [
        "lr_model = LogisticRegression()\n",
        "lr_model_results = lr_model.fit(x_train, y_train)\n",
        "y_pred = lr_model.predict(x_test)"
      ],
      "execution_count": null,
      "outputs": []
    },
    {
      "cell_type": "code",
      "metadata": {
        "colab": {
          "base_uri": "https://localhost:8080/"
        },
        "id": "dzfsIKbPKlkC",
        "outputId": "421d1594-7ab9-438c-9b96-f90908022499"
      },
      "source": [
        "# Is our model still predicting just one class?\n",
        "print( np.unique( y_pred ) )\n",
        "\n",
        "# How's our accuracy?\n",
        "print( accuracy_score(y_test, y_pred) )\n",
        "\n",
        "# AUC ROC Score\n",
        "print(roc_auc_score(y_test, y_pred) )"
      ],
      "execution_count": null,
      "outputs": [
        {
          "output_type": "stream",
          "text": [
            "[0 1]\n",
            "0.5331222009620653\n",
            "0.5331311594435356\n"
          ],
          "name": "stdout"
        }
      ]
    },
    {
      "cell_type": "code",
      "metadata": {
        "colab": {
          "base_uri": "https://localhost:8080/"
        },
        "id": "UNBg18HPKqFR",
        "outputId": "050f8c8a-cc42-4944-d8a7-945141c9158a"
      },
      "source": [
        "print(classification_report(y_test, y_pred))"
      ],
      "execution_count": null,
      "outputs": [
        {
          "output_type": "stream",
          "text": [
            "              precision    recall  f1-score   support\n",
            "\n",
            "           0       0.53      0.58      0.56   1156888\n",
            "           1       0.54      0.48      0.51   1157300\n",
            "\n",
            "    accuracy                           0.53   2314188\n",
            "   macro avg       0.53      0.53      0.53   2314188\n",
            "weighted avg       0.53      0.53      0.53   2314188\n",
            "\n"
          ],
          "name": "stdout"
        }
      ]
    },
    {
      "cell_type": "markdown",
      "metadata": {
        "id": "tA1Nq-Ec3Ex_"
      },
      "source": [
        "With an upscaled dataset, the accuracy is quite low, at only 53%"
      ]
    },
    {
      "cell_type": "markdown",
      "metadata": {
        "id": "U9NGoufzMDRq"
      },
      "source": [
        "## 2. Random Forest Classifier\n",
        "Decision trees often perform well on imbalanced datasets because their hierarchical structure allows them to learn signals from both classes.\n",
        "\n",
        "In modern applied machine learning, tree ensembles (Random Forests, etc.) almost always outperform singular decision trees, so we'll use them directly."
      ]
    },
    {
      "cell_type": "code",
      "metadata": {
        "id": "w7nZlQUQMZh-"
      },
      "source": [
        "x_train, x_test, y_train, y_test = train_test_split(x, y, test_size = 0.3, random_state = 32)"
      ],
      "execution_count": null,
      "outputs": []
    },
    {
      "cell_type": "code",
      "metadata": {
        "id": "F6mfK7ewoVhi"
      },
      "source": [
        "rf_model = RandomForestClassifier()\n",
        "rf_model_results = rf_model.fit(x_train, y_train)\n",
        "y_pred = rf_model.predict(x_test)"
      ],
      "execution_count": null,
      "outputs": []
    },
    {
      "cell_type": "code",
      "metadata": {
        "colab": {
          "base_uri": "https://localhost:8080/"
        },
        "id": "BJdJdpe6oz8s",
        "outputId": "e8a45cef-15ad-4e9f-9bc1-9f73256633c2"
      },
      "source": [
        "# Is our model still predicting just one class?\n",
        "print( np.unique( y_pred ) )\n",
        "\n",
        "# How's our accuracy?\n",
        "print( accuracy_score(y_test, y_pred) )\n",
        "\n",
        "# AUC ROC Score\n",
        "print(roc_auc_score(y_test, y_pred) )\n",
        "\n",
        "print(classification_report(y_test, y_pred))"
      ],
      "execution_count": null,
      "outputs": [
        {
          "output_type": "stream",
          "text": [
            "[0 1]\n",
            "0.9351102909684509\n",
            "0.52686778520459\n",
            "              precision    recall  f1-score   support\n",
            "\n",
            "           0       0.22      0.07      0.10     68277\n",
            "           1       0.95      0.99      0.97   1157526\n",
            "\n",
            "    accuracy                           0.94   1225803\n",
            "   macro avg       0.59      0.53      0.54   1225803\n",
            "weighted avg       0.91      0.94      0.92   1225803\n",
            "\n"
          ],
          "name": "stdout"
        }
      ]
    },
    {
      "cell_type": "markdown",
      "metadata": {
        "id": "-LQYLm401_h0"
      },
      "source": [
        "Random forest chooses features randomly during the training process. Therefore, it does not depend highly on any specific set of features. Therefore, the random forest can generalize over the data in a better way"
      ]
    },
    {
      "cell_type": "markdown",
      "metadata": {
        "id": "z8YfwN0-rTja"
      },
      "source": [
        "#### Ignore: Saving Models for reduced resource usage"
      ]
    },
    {
      "cell_type": "code",
      "metadata": {
        "id": "fiOiNzKYQiTD"
      },
      "source": [
        "!mkdir gdrive/MyDrive/Datasets/models"
      ],
      "execution_count": null,
      "outputs": []
    },
    {
      "cell_type": "code",
      "metadata": {
        "id": "3fnnEokzErp5"
      },
      "source": [
        "import pickle\n",
        "model_name = 'rfc_model'\n",
        "filename = 'gdrive/MyDrive/Datasets/models/' + model_name + '.sav'\n",
        "# pickle.dump(model_name, open(filename, 'wb'))\n",
        "\n",
        "# # load the model from disk\n",
        "loaded_model = pickle.load(open(filename, 'rb'))\n",
        "result = loaded_model.predict(Y_test)\n",
        "print(result)"
      ],
      "execution_count": null,
      "outputs": []
    },
    {
      "cell_type": "code",
      "metadata": {
        "colab": {
          "base_uri": "https://localhost:8080/",
          "height": 35
        },
        "id": "OdiZweXlVpHX",
        "outputId": "a32e0c4b-9a03-4d64-a70c-66e9b425c7e6"
      },
      "source": [
        "loaded_model"
      ],
      "execution_count": null,
      "outputs": [
        {
          "output_type": "execute_result",
          "data": {
            "application/vnd.google.colaboratory.intrinsic+json": {
              "type": "string"
            },
            "text/plain": [
              "'rfc_model'"
            ]
          },
          "metadata": {
            "tags": []
          },
          "execution_count": 47
        }
      ]
    },
    {
      "cell_type": "code",
      "metadata": {
        "id": "zDP3W3P8mA00"
      },
      "source": [],
      "execution_count": null,
      "outputs": []
    }
  ]
}